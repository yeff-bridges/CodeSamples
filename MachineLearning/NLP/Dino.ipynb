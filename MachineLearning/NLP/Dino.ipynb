{
 "cells": [
  {
   "cell_type": "code",
   "execution_count": 6,
   "metadata": {},
   "outputs": [],
   "source": [
    "import numpy as np\n",
    "import pandas as pd\n",
    "import torch\n",
    "from matplotlib import pyplot as plt\n",
    "# torch.cuda.set_device(1)\n",
    "# torch.set_default_tensor_type(torch.cuda.FloatTensor)"
   ]
  },
  {
   "cell_type": "code",
   "execution_count": 7,
   "metadata": {},
   "outputs": [
    {
     "data": {
      "text/plain": [
       "'GeForce RTX 2070'"
      ]
     },
     "execution_count": 7,
     "metadata": {},
     "output_type": "execute_result"
    }
   ],
   "source": [
    "torch.cuda.get_device_name(torch.cuda.current_device())"
   ]
  },
  {
   "cell_type": "code",
   "execution_count": 8,
   "metadata": {},
   "outputs": [],
   "source": [
    "df = pd.read_csv('dinosaurs.csv', header=None)"
   ]
  },
  {
   "cell_type": "code",
   "execution_count": 9,
   "metadata": {},
   "outputs": [],
   "source": [
    "class Layer(torch.nn.Module):\n",
    "    def __init__(self, in_feat, out_feat, activation_func=torch.sigmoid):\n",
    "        super().__init__()\n",
    "        self.w = torch.nn.Parameter(torch.randn(in_feat, out_feat, requires_grad=True))\n",
    "        self.b = torch.nn.Parameter(torch.randn(1, out_feat, requires_grad=True))\n",
    "        self.activation_func = activation_func\n",
    "        \n",
    "    def forward(self, x):\n",
    "        return self.activation_func(x @ self.w + self.b)\n",
    "    \n",
    "    \n",
    "class RNN(torch.nn.Module):\n",
    "    def __init__(self, in_feat, out_feat, mem_size):\n",
    "        super().__init__()\n",
    "        self.recurrent_layer = Layer(in_feat + mem_size, mem_size)\n",
    "        self.classifier = Layer(mem_size, out_feat)\n",
    "        self.mem_size = mem_size\n",
    "        self.in_feat = in_feat\n",
    "        self.out_feat = out_feat\n",
    "        \n",
    "    def forward(self, x):\n",
    "        \"\"\"\n",
    "        x is a tensor where each row is a token\n",
    "        \"\"\"\n",
    "        out = []\n",
    "        memory = torch.zeros(1, self.mem_size)\n",
    "        \n",
    "        for t in range(x.shape[0]):\n",
    "            memory = self.recurrent_layer(torch.cat([x[[t]], memory], axis=1))\n",
    "            out.append(self.classifier(memory))\n",
    "        \n",
    "        return torch.cat(out, axis=0)\n",
    "    \n",
    "    def Generate(self, start='{', max_len=20, rand_factor=0.1):\n",
    "        memory = torch.randn(1, self.mem_size) * rand_factor\n",
    "        x_0 = torch.zeros(1, 28)\n",
    "        x_0[0, ord(start) - ord('a')] = 1\n",
    "        x = [x_0]\n",
    "        \n",
    "        for t in range(max_len):\n",
    "            memory = self.recurrent_layer(torch.cat([x[t], memory], axis=1))\n",
    "            out = torch.argmax(self.classifier(memory))\n",
    "            x_new = torch.zeros(1, 28)\n",
    "            x_new[0, out] = 1\n",
    "            x.append(x_new)\n",
    "            if out == 26:\n",
    "                break\n",
    "                \n",
    "        x = torch.cat(x, axis=0)\n",
    "        return ''.join(list(map(lambda c: chr(c+ord('a')), torch.argmax(x, axis=1))))\n",
    "\n",
    "class Two_Layer_RNN(torch.nn.Module):\n",
    "    def __init__(self, in_feat, out_feat):\n",
    "        super().__init__()\n",
    "        self.rnn_0 = RNN(in_feat, 28, 64)\n",
    "        self.rnn_1 = RNN(28, out_feat, 64)\n",
    "        \n",
    "    def forward(self, x):\n",
    "        z_1 = self.rnn_0(x)\n",
    "        out = self.rnn_1(z_1)\n",
    "        return out\n"
   ]
  },
  {
   "cell_type": "code",
   "execution_count": 10,
   "metadata": {},
   "outputs": [],
   "source": [
    "def OneHot(word):\n",
    "    word = '{' + word + '|'\n",
    "    a = ord('a')\n",
    "    codes = list(map(lambda x: ord(x) - a, word))\n",
    "    encoding = torch.zeros([len(word), 28])\n",
    "    encoding[range(len(word)),codes] += 1\n",
    "        \n",
    "    return encoding"
   ]
  },
  {
   "cell_type": "code",
   "execution_count": 11,
   "metadata": {},
   "outputs": [
    {
     "data": {
      "text/plain": [
       "tensor([[0., 0., 0., 0., 0., 0., 0., 0., 0., 0., 0., 0., 0., 0., 0., 0., 0., 0.,\n",
       "         0., 0., 0., 0., 0., 0., 0., 0., 1., 0.],\n",
       "        [0., 0., 0., 0., 0., 0., 0., 0., 0., 0., 0., 0., 0., 0., 0., 0., 0., 0.,\n",
       "         0., 1., 0., 0., 0., 0., 0., 0., 0., 0.],\n",
       "        [0., 0., 0., 0., 1., 0., 0., 0., 0., 0., 0., 0., 0., 0., 0., 0., 0., 0.,\n",
       "         0., 0., 0., 0., 0., 0., 0., 0., 0., 0.],\n",
       "        [0., 0., 0., 0., 0., 0., 0., 0., 0., 0., 0., 0., 0., 0., 0., 0., 0., 0.,\n",
       "         1., 0., 0., 0., 0., 0., 0., 0., 0., 0.],\n",
       "        [0., 0., 0., 0., 0., 0., 0., 0., 0., 0., 0., 0., 0., 0., 0., 0., 0., 0.,\n",
       "         0., 1., 0., 0., 0., 0., 0., 0., 0., 0.],\n",
       "        [0., 0., 0., 0., 0., 0., 0., 0., 0., 0., 0., 0., 0., 0., 0., 0., 0., 0.,\n",
       "         0., 0., 0., 0., 0., 0., 0., 0., 0., 1.]])"
      ]
     },
     "execution_count": 11,
     "metadata": {},
     "output_type": "execute_result"
    }
   ],
   "source": [
    "OneHot('test')"
   ]
  },
  {
   "cell_type": "code",
   "execution_count": 124,
   "metadata": {},
   "outputs": [],
   "source": [
    "model = RNN(28, 28, 56)\n",
    "loss_func = torch.nn.CrossEntropyLoss()\n",
    "optim = torch.optim.Adam(model.parameters(), lr=1e-3, )"
   ]
  },
  {
   "cell_type": "code",
   "execution_count": 130,
   "metadata": {},
   "outputs": [
    {
     "name": "stdout",
     "output_type": "stream",
     "text": [
      "  249 |          3.0\r"
     ]
    }
   ],
   "source": [
    "iterations=250\n",
    "losses = [np.inf]\n",
    "batch_size = 5\n",
    "for i in range(iterations):\n",
    "    print('{:>5} | {:>12.3}\\r'.format(i, losses[-1]), end='')\n",
    "    dinos = df[0].sample(batch_size).values\n",
    "    loss = 0\n",
    "    for dino in dinos:\n",
    "        x = OneHot(dino)\n",
    "        x_hat = model(x)\n",
    "        loss = loss_func(x_hat[:-1], torch.argmax(x[1:], axis=1))\n",
    "        loss.backward()\n",
    "        losses.append(loss.detach())\n",
    "    optim.step()\n",
    "    optim.zero_grad()\n",
    "    "
   ]
  },
  {
   "cell_type": "code",
   "execution_count": 131,
   "metadata": {},
   "outputs": [
    {
     "data": {
      "text/plain": [
       "[<matplotlib.lines.Line2D at 0x2377fe35588>]"
      ]
     },
     "execution_count": 131,
     "metadata": {},
     "output_type": "execute_result"
    },
    {
     "data": {
      "image/png": "[encoded data removed]",
      "text/plain": [
       "<Figure size 432x288 with 1 Axes>"
      ]
     },
     "metadata": {
      "needs_background": "light"
     },
     "output_type": "display_data"
    }
   ],
   "source": [
    "plt.plot(losses)"
   ]
  },
  {
   "cell_type": "code",
   "execution_count": 132,
   "metadata": {},
   "outputs": [
    {
     "data": {
      "text/plain": [
       "'asaanananasnanan'"
      ]
     },
     "execution_count": 132,
     "metadata": {},
     "output_type": "execute_result"
    }
   ],
   "source": [
    "''.join(list(map(lambda c: chr(c+ord('a')), torch.argmax(x_hat, axis=1))))"
   ]
  },
  {
   "cell_type": "code",
   "execution_count": 133,
   "metadata": {},
   "outputs": [
    {
     "name": "stdout",
     "output_type": "stream",
     "text": [
      "abydosaurus\n",
      "asaasaasaanan\n"
     ]
    }
   ],
   "source": [
    "print(df[0][5])\n",
    "x_hat = model.forward(OneHot(df[0][5]))\n",
    "print(''.join(list(map(lambda c: chr(c+ord('a')), torch.argmax(x_hat, axis=1)))))"
   ]
  },
  {
   "cell_type": "code",
   "execution_count": 154,
   "metadata": {},
   "outputs": [
    {
     "data": {
      "text/plain": [
       "'rpaasanananananananan'"
      ]
     },
     "execution_count": 154,
     "metadata": {},
     "output_type": "execute_result"
    }
   ],
   "source": [
    "model.Generate(start='r', rand_factor=100)"
   ]
  },
  {
   "cell_type": "code",
   "execution_count": 86,
   "metadata": {},
   "outputs": [],
   "source": [
    "class LSTM(torch.nn.Module):\n",
    "    def __init__(self, size_in, size_out, size_long, size_short):\n",
    "        super().__init__()\n",
    "        size_cat = size_in + size_short\n",
    "        self.forget_gate = Layer(size_cat, size_long, torch.sigmoid)\n",
    "        self.memory_gate = Layer(size_cat, size_long, torch.sigmoid)\n",
    "        self.memory_tanh = Layer(size_cat, size_long, torch.tanh)\n",
    "        self.recall_gate = Layer(size_cat, size_short, torch.sigmoid)\n",
    "        self.recall_tanh = Layer(size_long, size_short, torch.tanh)\n",
    "        self.output_relu = Layer(size_short, size_out, lambda z: z)\n",
    "        self.size_short = size_short\n",
    "        self.size_long = size_long\n",
    "        \n",
    "    def forward(self, x):\n",
    "        memory_long  = torch.zeros((1, self.size_long))\n",
    "        memory_short = torch.zeros((1, self.size_short))\n",
    "        out = []\n",
    "        \n",
    "        for t in range(x.shape[0]):\n",
    "            x_t = x[[t], :]\n",
    "            z_t = torch.cat([x_t, memory_short], axis=1)\n",
    "            \n",
    "            forget_gate = self.forget_gate(z_t)\n",
    "            \n",
    "            memory_long = memory_long * forget_gate\n",
    "            \n",
    "            memory_gate = self.memory_gate(z_t)\n",
    "            memory_tanh = self.memory_tanh(z_t)\n",
    "            memory = memory_gate * memory_tanh\n",
    "            \n",
    "            memory_long = memory_long + memory\n",
    "            \n",
    "            recall_gate = self.recall_gate(z_t)\n",
    "            recall_tanh = self.recall_tanh(memory_long)\n",
    "            \n",
    "            memory_short = recall_gate * recall_tanh\n",
    "            \n",
    "            y_hat = self.output_relu(memory_short)\n",
    "            out.append(y_hat)\n",
    "        return torch.cat(out, axis=0)\n",
    "    \n",
    "    def Generate(self, start, stop=0, rand_factor=1, max_t=20):\n",
    "        memory_long  = torch.randn((1, self.size_long)) * rand_factor\n",
    "        memory_short = torch.randn((1, self.size_short)) * rand_factor\n",
    "        out = [start]\n",
    "        while (out[-1] != stop).any() and (len(out) <= max_t):\n",
    "            z_t = torch.cat([out[-1], memory_short], axis=1)\n",
    "            forget_gate = self.forget_gate(z_t)\n",
    "            \n",
    "            memory_long = memory_long * forget_gate\n",
    "            \n",
    "            memory_gate = self.memory_gate(z_t)\n",
    "            memory_tanh = self.memory_tanh(z_t)\n",
    "            memory = memory_gate * memory_tanh\n",
    "            \n",
    "            memory_long = memory_long + memory\n",
    "            \n",
    "            recall_gate = self.recall_gate(z_t)\n",
    "            recall_tanh = self.recall_tanh(memory_long)\n",
    "            \n",
    "            memory_short = recall_gate * recall_tanh\n",
    "            \n",
    "            y_hat = self.output_relu(memory_short)\n",
    "            zeros = torch.zeros((1, x.shape[1]))\n",
    "            zeros[0, torch.argmax(y_hat, dim=1)] = 1\n",
    "            out.append(zeros)\n",
    "            \n",
    "        return torch.cat(out, axis=0)\n",
    "        "
   ]
  },
  {
   "cell_type": "code",
   "execution_count": null,
   "metadata": {},
   "outputs": [],
   "source": []
  },
  {
   "cell_type": "code",
   "execution_count": 147,
   "metadata": {},
   "outputs": [],
   "source": [
    "model = LSTM(28, 28, 10, 10)\n",
    "loss_func = torch.nn.CrossEntropyLoss()\n",
    "optim = torch.optim.Adam(model.parameters(), lr=1e-2, )"
   ]
  },
  {
   "cell_type": "code",
   "execution_count": 148,
   "metadata": {},
   "outputs": [
    {
     "name": "stdout",
     "output_type": "stream",
     "text": [
      " 1999 |          1.3\r"
     ]
    }
   ],
   "source": [
    "iterations=2000\n",
    "losses = [np.inf]\n",
    "batch_size = 5\n",
    "for i in range(iterations):\n",
    "    print('{:>5} | {:>12.3}\\r'.format(i, losses[-1]), end='')\n",
    "    dinos = df[0].sample(batch_size).values\n",
    "    loss = 0\n",
    "    for dino in dinos:\n",
    "        x = OneHot(dino)\n",
    "        x_hat = model(x)\n",
    "        loss = loss_func(x_hat[:-1], torch.argmax(x[1:], axis=1))\n",
    "        loss.backward()\n",
    "        losses.append(loss.detach())\n",
    "    optim.step()\n",
    "    optim.zero_grad()\n",
    "    "
   ]
  },
  {
   "cell_type": "code",
   "execution_count": 149,
   "metadata": {},
   "outputs": [
    {
     "data": {
      "text/plain": [
       "[<matplotlib.lines.Line2D at 0x22c2d46ad48>]"
      ]
     },
     "execution_count": 149,
     "metadata": {},
     "output_type": "execute_result"
    },
    {
     "data": {
      "image/png": "[encoded data removed]",
      "text/plain": [
       "<Figure size 432x288 with 1 Axes>"
      ]
     },
     "metadata": {
      "needs_background": "light"
     },
     "output_type": "display_data"
    }
   ],
   "source": [
    "plt.plot(losses)"
   ]
  },
  {
   "cell_type": "code",
   "execution_count": 351,
   "metadata": {},
   "outputs": [
    {
     "name": "stdout",
     "output_type": "stream",
     "text": [
      "{rachosaurus|\n",
      "{hon|\n",
      "{osaurus|\n",
      "{us|\n",
      "{nhosaurus|\n",
      "{ucrachus|\n",
      "{rosaurus|\n",
      "{losaurus|\n",
      "{us|\n",
      "{hurus|\n"
     ]
    }
   ],
   "source": [
    "start = OneHot('{')[[1]]\n",
    "stop = OneHot('')[[1]]\n",
    "for i in range(10):\n",
    "    print(''.join(map(chr, torch.argmax(model.Generate(start, stop, rand_factor=0.5), axis=1) + ord('a'))))"
   ]
  },
  {
   "cell_type": "code",
   "execution_count": null,
   "metadata": {},
   "outputs": [],
   "source": []
  },
  {
   "cell_type": "code",
   "execution_count": null,
   "metadata": {},
   "outputs": [],
   "source": []
  }
 ],
 "metadata": {
  "kernelspec": {
   "display_name": "Python 3",
   "language": "python",
   "name": "python3"
  },
  "language_info": {
   "codemirror_mode": {
    "name": "ipython",
    "version": 3
   },
   "file_extension": ".py",
   "mimetype": "text/x-python",
   "name": "python",
   "nbconvert_exporter": "python",
   "pygments_lexer": "ipython3",
   "version": "3.7.6"
  }
 },
 "nbformat": 4,
 "nbformat_minor": 4
}
