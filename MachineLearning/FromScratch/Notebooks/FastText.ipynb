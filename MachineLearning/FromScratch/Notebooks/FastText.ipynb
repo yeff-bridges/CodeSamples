{
 "cells": [
  {
   "cell_type": "markdown",
   "metadata": {},
   "source": [
    "### We need Gensim to load our models"
   ]
  },
  {
   "cell_type": "code",
   "execution_count": 4,
   "metadata": {},
   "outputs": [],
   "source": [
    "from gensim.models.wrappers import FastText\n",
    "import numpy as np"
   ]
  },
  {
   "cell_type": "markdown",
   "metadata": {},
   "source": [
    "### Load the FastText model\n",
    "\n",
    "- The path leads to a model that I downloaded from: https://fasttext.cc/docs/en/pretrained-vectors.html"
   ]
  },
  {
   "cell_type": "code",
   "execution_count": 2,
   "metadata": {},
   "outputs": [],
   "source": [
    "model = FastText.load_fasttext_format(r\"C:\\Users\\Jacob Thompson\\OneDrive\\EnhanceIT\\Vector Semantic Embedding\\FastText_CommonCrawl_English.bin\")"
   ]
  },
  {
   "cell_type": "markdown",
   "metadata": {},
   "source": [
    "#### This is the vector for water\n",
    "\n",
    "we use `model.wv` to access the vector dictionary in the model"
   ]
  },
  {
   "cell_type": "code",
   "execution_count": 3,
   "metadata": {
    "collapsed": true,
    "jupyter": {
     "outputs_hidden": true
    }
   },
   "outputs": [
    {
     "data": {
      "text/plain": [
       "array([-0.02764769,  0.10620716, -0.01843078,  0.07740073,  0.01232646,\n",
       "        0.01454496,  0.1573341 ,  0.07692765, -0.02799442, -0.00236035,\n",
       "        0.00649283,  0.00439246,  0.08124923,  0.07792549,  0.05345523,\n",
       "       -0.01470464,  0.00044429,  0.08845089,  0.07179119, -0.03711618,\n",
       "        0.13562647,  0.03201184, -0.08579989,  0.08018851,  0.00276714,\n",
       "       -0.09432636, -0.01265868, -0.05588473,  0.04186226,  0.11035786,\n",
       "        0.01416378,  0.02874554,  0.02892343,  0.02113707,  0.11138544,\n",
       "        0.02110403,  0.03224842,  0.07664809,  0.01861649, -0.13109696,\n",
       "       -0.04479764, -0.03965852,  0.03575751, -0.02198079, -0.12455519,\n",
       "       -0.00994011, -0.00213207,  0.03578394,  0.03736476,  0.09824882,\n",
       "        0.06353479, -0.06149272,  0.06794042, -0.01980706,  0.05419092,\n",
       "        0.02825904,  0.08767466, -0.06995759, -0.10396952, -0.07568816,\n",
       "       -0.05268468, -0.08930409, -0.03211305, -0.07188852,  0.02063234,\n",
       "       -0.00593469,  0.04729244, -0.15446323, -0.09130683, -0.02069872,\n",
       "        0.0719373 , -0.01390583,  0.02125275,  0.00928057, -0.0406721 ,\n",
       "       -0.00497865, -0.01435476, -0.00271782, -0.02050287, -0.06033792,\n",
       "       -0.04557262,  0.04685698, -0.07964895, -0.06821889,  0.03027227,\n",
       "       -0.06286852, -0.03442397,  0.01896188,  0.05650375, -0.00567092,\n",
       "       -0.15314747, -0.08471707, -0.02624854,  0.01745706,  0.03128102,\n",
       "        0.05525132,  0.0226725 , -0.05009499, -0.02276282, -0.05679777,\n",
       "       -0.03424714,  0.04742561,  0.03332394, -0.03890332, -0.08462054,\n",
       "        0.05758809,  0.07643831,  0.01046642,  0.02745194, -0.03511977,\n",
       "        0.01248845, -0.09376657, -0.02459058,  0.09480523,  0.07953306,\n",
       "        0.03540696, -0.02001968, -0.00445466, -0.01461231,  0.08364083,\n",
       "       -0.06396504, -0.04731027, -0.10785449,  0.00984077,  0.0059424 ,\n",
       "       -0.065062  , -0.05515771,  0.04431675, -0.08471321,  0.05764081,\n",
       "        0.10399959,  0.08136419, -0.04239218, -0.01000013, -0.00040756,\n",
       "       -0.07333056,  0.11813379,  0.02829023,  0.117741  , -0.04750691,\n",
       "       -0.01304754,  0.00562119, -0.02372986, -0.03549704, -0.04118422,\n",
       "       -0.00687035, -0.17140171,  0.12216527, -0.04807269, -0.04879825,\n",
       "       -0.01859984, -0.04713458, -0.02278041,  0.09562985, -0.04999693,\n",
       "        0.05738368,  0.01567113,  0.09832294, -0.02017614, -0.01576024,\n",
       "       -0.0590758 ,  0.00981164,  0.03626347,  0.0346517 , -0.06370742,\n",
       "       -0.13936214, -0.0352749 , -0.13610725,  0.05114812, -0.00700669,\n",
       "       -0.01884932, -0.0360266 , -0.05182317,  0.15909432,  0.00505303,\n",
       "       -0.00634277, -0.02622123,  0.16015835,  0.094936  ,  0.01267951,\n",
       "        0.05221219, -0.07072578, -0.00939504, -0.07714114,  0.08052162,\n",
       "        0.08060013, -0.00313348,  0.10992229, -0.01983025,  0.02051317,\n",
       "       -0.05436367, -0.0395405 , -0.09926138, -0.03016674, -0.07641137,\n",
       "        0.09200112, -0.06637542,  0.05051322, -0.0335788 , -0.0326185 ,\n",
       "        0.04177152,  0.00986845, -0.03588907, -0.02016238,  0.0358392 ,\n",
       "        0.03989845, -0.05458844, -0.07597262,  0.01219285,  0.10736046,\n",
       "       -0.00071364, -0.04129833, -0.0567267 , -0.05477254,  0.07389541,\n",
       "        0.01045563,  0.00887435, -0.07121205,  0.06314237,  0.07519175,\n",
       "       -0.04896749,  0.08442573, -0.00191087,  0.09379722,  0.06846192,\n",
       "        0.0515763 ,  0.02621896,  0.04761242, -0.04016922, -0.04323399,\n",
       "       -0.06983044, -0.09167786,  0.0073132 , -0.01860312,  0.01462599,\n",
       "       -0.02991075,  0.02869131, -0.07553414, -0.03700109,  0.10372064,\n",
       "        0.08835214,  0.01339215, -0.00722226, -0.0906161 ,  0.11106051,\n",
       "        0.00896605, -0.08992443, -0.11439028, -0.00338614,  0.03372544,\n",
       "        0.08009257,  0.05044115, -0.0156278 , -0.04841781,  0.09650932,\n",
       "       -0.11420371, -0.0424333 , -0.02926813,  0.10501565,  0.0010074 ,\n",
       "        0.07876257, -0.06482736, -0.02812335,  0.03460721,  0.00352992,\n",
       "        0.05759318,  0.06035685, -0.09020724, -0.03465674, -0.01210648,\n",
       "        0.02093026,  0.06181303, -0.05093243,  0.01595651, -0.050669  ,\n",
       "       -0.00458409, -0.03456583,  0.01213877, -0.00083403,  0.0269822 ,\n",
       "        0.08472975, -0.03661592, -0.08106136,  0.05384704,  0.08158391,\n",
       "       -0.03270393, -0.03824601, -0.05586427,  0.03156919,  0.09347137,\n",
       "        0.00766371,  0.00589174, -0.03301878, -0.04457363, -0.02550234,\n",
       "        0.02681912, -0.01121154,  0.14580601,  0.08669254, -0.06631082],\n",
       "      dtype=float32)"
      ]
     },
     "execution_count": 3,
     "metadata": {},
     "output_type": "execute_result"
    }
   ],
   "source": [
    "model.wv['water']"
   ]
  },
  {
   "cell_type": "markdown",
   "metadata": {},
   "source": [
    "You'll see the size of these vectors is 300, much more manageable than the one-hot encoded version"
   ]
  },
  {
   "cell_type": "code",
   "execution_count": 5,
   "metadata": {},
   "outputs": [
    {
     "data": {
      "text/plain": [
       "(300,)"
      ]
     },
     "execution_count": 5,
     "metadata": {},
     "output_type": "execute_result"
    }
   ],
   "source": [
    "model.wv['water'].shape"
   ]
  },
  {
   "cell_type": "markdown",
   "metadata": {},
   "source": [
    "Lets try some math"
   ]
  },
  {
   "cell_type": "code",
   "execution_count": 13,
   "metadata": {},
   "outputs": [
    {
     "data": {
      "text/plain": [
       "[('king', 0.7286674380302429),\n",
       " ('queen', 0.6542679071426392),\n",
       " ('kings', 0.5410281419754028),\n",
       " ('queen-mother', 0.5250692367553711),\n",
       " ('Queen', 0.5074419975280762),\n",
       " ('royal', 0.500452995300293),\n",
       " ('king-', 0.4945007264614105),\n",
       " ('queens', 0.49149513244628906),\n",
       " ('monarch', 0.4913707375526428),\n",
       " ('queenship', 0.48369985818862915)]"
      ]
     },
     "execution_count": 13,
     "metadata": {},
     "output_type": "execute_result"
    }
   ],
   "source": [
    "out = model.wv['king'] - model.wv['man'] + model.wv['woman']\n",
    "model.wv.similar_by_vector(out)"
   ]
  },
  {
   "cell_type": "code",
   "execution_count": 14,
   "metadata": {},
   "outputs": [
    {
     "data": {
      "text/plain": [
       "[('Berlin', 0.7931755781173706),\n",
       " ('Munich', 0.7399019002914429),\n",
       " ('Germany', 0.7242324352264404),\n",
       " ('London', 0.6978325247764587),\n",
       " ('Frankfurt', 0.6862188577651978),\n",
       " ('Hamburg', 0.670927882194519),\n",
       " ('Duesseldorf', 0.6635984182357788),\n",
       " ('Dusseldorf', 0.6538292169570923),\n",
       " ('Leipzig', 0.6535604000091553),\n",
       " ('Franfurt', 0.6458690166473389)]"
      ]
     },
     "execution_count": 14,
     "metadata": {},
     "output_type": "execute_result"
    }
   ],
   "source": [
    "out = model.wv['London'] - model.wv['England'] + model.wv['Germany']\n",
    "model.wv.similar_by_vector(out)"
   ]
  },
  {
   "cell_type": "code",
   "execution_count": 34,
   "metadata": {},
   "outputs": [
    {
     "data": {
      "text/plain": [
       "[('burger', 0.7229743003845215),\n",
       " ('Burger', 0.674201250076294),\n",
       " ('Chipotle', 0.6666013598442078),\n",
       " ('burgers', 0.6554458141326904),\n",
       " ('Smashburger', 0.6461240649223328),\n",
       " ('BurgerFi', 0.6402727961540222),\n",
       " ('Burgers', 0.578823447227478),\n",
       " ('Fuddruckers', 0.5720731019973755),\n",
       " ('hamburger', 0.5714389085769653),\n",
       " ('Bareburger', 0.5682088732719421)]"
      ]
     },
     "execution_count": 34,
     "metadata": {},
     "output_type": "execute_result"
    }
   ],
   "source": [
    "out = model.wv[\"Chipotle\"] - model.wv['burrito'] + model.wv['burger']\n",
    "model.wv.similar_by_vector(out)"
   ]
  },
  {
   "cell_type": "code",
   "execution_count": 60,
   "metadata": {},
   "outputs": [
    {
     "data": {
      "text/plain": [
       "[('Trump', 0.7101290822029114),\n",
       " ('Trump.Trump', 0.5579900145530701),\n",
       " ('PEOTUS', 0.5473158359527588),\n",
       " ('Trumps', 0.5447920560836792),\n",
       " ('.Trump', 0.5193414688110352),\n",
       " ('it.Trump', 0.5128458142280579),\n",
       " ('Trump-related', 0.5020406246185303),\n",
       " ('Trump.The', 0.5000512599945068),\n",
       " ('Trump-', 0.4815754294395447),\n",
       " ('Ivanka', 0.4794865846633911)]"
      ]
     },
     "execution_count": 60,
     "metadata": {},
     "output_type": "execute_result"
    }
   ],
   "source": [
    "out = model.wv[\"Trump\"] - model.wv[\"man\"] + model.wv[\"woman\"]\n",
    "model.wv.similar_by_vector(out)"
   ]
  },
  {
   "cell_type": "code",
   "execution_count": 70,
   "metadata": {},
   "outputs": [
    {
     "data": {
      "text/plain": [
       "[('snake', 0.806853711605072),\n",
       " ('snakes', 0.6734123826026917),\n",
       " ('programming', 0.6470806002616882),\n",
       " ('python', 0.6413437128067017),\n",
       " ('programing', 0.597991943359375),\n",
       " ('reptile', 0.5921888947486877),\n",
       " ('snake-', 0.5827924013137817),\n",
       " ('rattlesnake', 0.5799773931503296),\n",
       " ('cobra', 0.5570800304412842),\n",
       " ('scorpion', 0.5564751625061035)]"
      ]
     },
     "execution_count": 70,
     "metadata": {},
     "output_type": "execute_result"
    }
   ],
   "source": [
    "out = model.wv[\"programming\"] + 0.5 * model.wv[\"snake\"]\n",
    "model.wv.similar_by_vector(out)"
   ]
  },
  {
   "cell_type": "code",
   "execution_count": 71,
   "metadata": {},
   "outputs": [
    {
     "data": {
      "text/plain": [
       "[('Kanye', 0.9208813905715942),\n",
       " ('KanYe', 0.7060033082962036),\n",
       " ('Kanyes', 0.6950237154960632),\n",
       " ('Jay-Z', 0.6784842014312744),\n",
       " ('Teyana', 0.6738912463188171),\n",
       " ('kanye', 0.6657601594924927),\n",
       " ('Kayne', 0.6561713814735413),\n",
       " ('Rihanna', 0.6509965062141418),\n",
       " ('Yeezus', 0.6507629156112671),\n",
       " ('Taylor', 0.6480417251586914)]"
      ]
     },
     "execution_count": 71,
     "metadata": {},
     "output_type": "execute_result"
    }
   ],
   "source": [
    "out = model.wv[\"Taylor\"] + model.wv[\"Kanye\"]\n",
    "model.wv.similar_by_vector(out)"
   ]
  },
  {
   "cell_type": "code",
   "execution_count": 86,
   "metadata": {},
   "outputs": [
    {
     "data": {
      "text/plain": [
       "[('America', 0.6680967211723328),\n",
       " ('Amercia', 0.5242589712142944),\n",
       " ('America.The', 0.504277229309082),\n",
       " ('Americas', 0.4907873272895813),\n",
       " ('America.This', 0.4752237796783447),\n",
       " ('Amerca', 0.47177693247795105),\n",
       " ('America-', 0.46747326850891113),\n",
       " ('America.', 0.4628288745880127),\n",
       " ('America.So', 0.4596697986125946),\n",
       " ('America.But', 0.4589976370334625)]"
      ]
     },
     "execution_count": 86,
     "metadata": {},
     "output_type": "execute_result"
    }
   ],
   "source": [
    "out = model.wv[\"America\"] - model.wv[\"military\"]\n",
    "model.wv.similar_by_vector(out)"
   ]
  },
  {
   "cell_type": "code",
   "execution_count": null,
   "metadata": {},
   "outputs": [],
   "source": []
  }
 ],
 "metadata": {
  "kernelspec": {
   "display_name": "Python 3",
   "language": "python",
   "name": "python3"
  },
  "language_info": {
   "codemirror_mode": {
    "name": "ipython",
    "version": 3
   },
   "file_extension": ".py",
   "mimetype": "text/x-python",
   "name": "python",
   "nbconvert_exporter": "python",
   "pygments_lexer": "ipython3",
   "version": "3.7.6"
  }
 },
 "nbformat": 4,
 "nbformat_minor": 4
}
