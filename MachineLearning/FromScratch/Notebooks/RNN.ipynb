{
 "cells": [
  {
   "cell_type": "code",
   "execution_count": 1,
   "metadata": {},
   "outputs": [],
   "source": [
    "import numpy as np\n",
    "import pandas as pd\n",
    "import torch\n",
    "from matplotlib import pyplot as plt\n",
    "# torch.cuda.set_device(1)\n",
    "# torch.set_default_tensor_type(torch.cuda.FloatTensor)"
   ]
  },
  {
   "cell_type": "code",
   "execution_count": 2,
   "metadata": {},
   "outputs": [
    {
     "data": {
      "text/plain": [
       "'GeForce RTX 2070'"
      ]
     },
     "execution_count": 2,
     "metadata": {},
     "output_type": "execute_result"
    }
   ],
   "source": [
    "torch.cuda.get_device_name(torch.cuda.current_device())"
   ]
  },
  {
   "cell_type": "code",
   "execution_count": 3,
   "metadata": {},
   "outputs": [],
   "source": [
    "df = pd.read_csv('dinosaurs.csv', header=None)"
   ]
  },
  {
   "cell_type": "code",
   "execution_count": 11,
   "metadata": {},
   "outputs": [],
   "source": [
    "class Layer(torch.nn.Module):\n",
    "    def __init__(self, in_feat, out_feat, activation_func=torch.sigmoid):\n",
    "        super().__init__()\n",
    "        self.w = torch.nn.Parameter(torch.randn(in_feat, out_feat, requires_grad=True, device='cuda:0'))\n",
    "        self.b = torch.nn.Parameter(torch.randn(1, out_feat, requires_grad=True, device='cuda:0'))\n",
    "        self.activation_func = activation_func\n",
    "        \n",
    "    def forward(self, x):\n",
    "        return self.activation_func(x @ self.w + self.b)\n",
    "    \n",
    "    \n",
    "class RNN(torch.nn.Module):\n",
    "    def __init__(self, in_feat, out_feat, mem_size):\n",
    "        super().__init__()\n",
    "        self.recurrent_layer = Layer(in_feat + mem_size, mem_size)\n",
    "        self.classifier = Layer(mem_size, out_feat)\n",
    "        self.mem_size = mem_size\n",
    "        self.in_feat = in_feat\n",
    "        self.out_feat = out_feat\n",
    "        \n",
    "    def forward(self, x):\n",
    "        \"\"\"\n",
    "        x is a tensor where each row is a token\n",
    "        \"\"\"\n",
    "        out = []\n",
    "        memory = torch.zeros(1, self.mem_size, device='cuda:0')\n",
    "        \n",
    "        for t in range(x.shape[0]):\n",
    "            memory = self.recurrent_layer(torch.cat([x[[t]], memory], axis=1))\n",
    "            out.append(self.classifier(memory))\n",
    "        \n",
    "        return torch.cat(out, axis=0)\n",
    "    \n",
    "class Two_Layer_RNN(torch.nn.Module):\n",
    "    def __init__(self, in_feat, out_feat):\n",
    "        super().__init__()\n",
    "        self.rnn_0 = RNN(in_feat, 28, 64)\n",
    "        self.rnn_1 = RNN(28, out_feat, 64)\n",
    "        \n",
    "    def forward(self, x):\n",
    "        z_1 = self.rnn_0(x)\n",
    "        out = self.rnn_1(z_1)\n",
    "        return out\n",
    "        \n",
    "        \n",
    "    "
   ]
  },
  {
   "cell_type": "code",
   "execution_count": 12,
   "metadata": {},
   "outputs": [],
   "source": [
    "def OneHot(word):\n",
    "    word = '{' + word + '|'\n",
    "    a = ord('a')\n",
    "    codes = list(map(lambda x: ord(x) - a, word))\n",
    "    encoding = torch.zeros([len(word), 28], device='cuda:0')\n",
    "    encoding[range(len(word)),codes] += 1\n",
    "        \n",
    "    return encoding"
   ]
  },
  {
   "cell_type": "code",
   "execution_count": 13,
   "metadata": {},
   "outputs": [
    {
     "data": {
      "text/plain": [
       "tensor([[0., 0., 0., 0., 0., 0., 0., 0., 0., 0., 0., 0., 0., 0., 0., 0., 0., 0.,\n",
       "         0., 0., 0., 0., 0., 0., 0., 0., 1., 0.],\n",
       "        [0., 0., 0., 0., 0., 0., 0., 0., 0., 0., 0., 0., 0., 0., 0., 0., 0., 0.,\n",
       "         0., 1., 0., 0., 0., 0., 0., 0., 0., 0.],\n",
       "        [0., 0., 0., 0., 1., 0., 0., 0., 0., 0., 0., 0., 0., 0., 0., 0., 0., 0.,\n",
       "         0., 0., 0., 0., 0., 0., 0., 0., 0., 0.],\n",
       "        [0., 0., 0., 0., 0., 0., 0., 0., 0., 0., 0., 0., 0., 0., 0., 0., 0., 0.,\n",
       "         1., 0., 0., 0., 0., 0., 0., 0., 0., 0.],\n",
       "        [0., 0., 0., 0., 0., 0., 0., 0., 0., 0., 0., 0., 0., 0., 0., 0., 0., 0.,\n",
       "         0., 1., 0., 0., 0., 0., 0., 0., 0., 0.],\n",
       "        [0., 0., 0., 0., 0., 0., 0., 0., 0., 0., 0., 0., 0., 0., 0., 0., 0., 0.,\n",
       "         0., 0., 0., 0., 0., 0., 0., 0., 0., 1.]], device='cuda:0')"
      ]
     },
     "execution_count": 13,
     "metadata": {},
     "output_type": "execute_result"
    }
   ],
   "source": [
    "OneHot('test')"
   ]
  },
  {
   "cell_type": "code",
   "execution_count": 21,
   "metadata": {},
   "outputs": [],
   "source": [
    "model = RNN(28, 28, 56)\n",
    "loss_func = torch.nn.CrossEntropyLoss()\n",
    "optim = torch.optim.Adam(model.parameters(), lr=1e-2, )"
   ]
  },
  {
   "cell_type": "code",
   "execution_count": 22,
   "metadata": {},
   "outputs": [
    {
     "name": "stdout",
     "output_type": "stream",
     "text": [
      "   31 | 3.21\r"
     ]
    },
    {
     "ename": "KeyboardInterrupt",
     "evalue": "",
     "output_type": "error",
     "traceback": [
      "\u001b[1;31m---------------------------------------------------------------------------\u001b[0m",
      "\u001b[1;31mKeyboardInterrupt\u001b[0m                         Traceback (most recent call last)",
      "\u001b[1;32m<ipython-input-22-2d0cdd936479>\u001b[0m in \u001b[0;36m<module>\u001b[1;34m\u001b[0m\n\u001b[0;32m      6\u001b[0m     \u001b[1;32mfor\u001b[0m \u001b[0mdino\u001b[0m \u001b[1;32min\u001b[0m \u001b[0mdinos\u001b[0m\u001b[1;33m:\u001b[0m\u001b[1;33m\u001b[0m\u001b[1;33m\u001b[0m\u001b[0m\n\u001b[0;32m      7\u001b[0m         \u001b[0mx\u001b[0m \u001b[1;33m=\u001b[0m \u001b[0mOneHot\u001b[0m\u001b[1;33m(\u001b[0m\u001b[0mdino\u001b[0m\u001b[1;33m)\u001b[0m\u001b[1;33m\u001b[0m\u001b[1;33m\u001b[0m\u001b[0m\n\u001b[1;32m----> 8\u001b[1;33m         \u001b[0mx_hat\u001b[0m \u001b[1;33m=\u001b[0m \u001b[0mmodel\u001b[0m\u001b[1;33m(\u001b[0m\u001b[0mx\u001b[0m\u001b[1;33m)\u001b[0m\u001b[1;33m\u001b[0m\u001b[1;33m\u001b[0m\u001b[0m\n\u001b[0m\u001b[0;32m      9\u001b[0m         \u001b[0mloss\u001b[0m \u001b[1;33m=\u001b[0m \u001b[0mloss_func\u001b[0m\u001b[1;33m(\u001b[0m\u001b[0mx_hat\u001b[0m\u001b[1;33m[\u001b[0m\u001b[1;33m:\u001b[0m\u001b[1;33m-\u001b[0m\u001b[1;36m1\u001b[0m\u001b[1;33m]\u001b[0m\u001b[1;33m,\u001b[0m \u001b[0mtorch\u001b[0m\u001b[1;33m.\u001b[0m\u001b[0margmax\u001b[0m\u001b[1;33m(\u001b[0m\u001b[0mx\u001b[0m\u001b[1;33m[\u001b[0m\u001b[1;36m1\u001b[0m\u001b[1;33m:\u001b[0m\u001b[1;33m]\u001b[0m\u001b[1;33m,\u001b[0m \u001b[0maxis\u001b[0m\u001b[1;33m=\u001b[0m\u001b[1;36m1\u001b[0m\u001b[1;33m)\u001b[0m\u001b[1;33m)\u001b[0m\u001b[1;33m\u001b[0m\u001b[1;33m\u001b[0m\u001b[0m\n\u001b[0;32m     10\u001b[0m         \u001b[0mloss\u001b[0m\u001b[1;33m.\u001b[0m\u001b[0mbackward\u001b[0m\u001b[1;33m(\u001b[0m\u001b[1;33m)\u001b[0m\u001b[1;33m\u001b[0m\u001b[1;33m\u001b[0m\u001b[0m\n",
      "\u001b[1;32mc:\\program files\\python37\\lib\\site-packages\\torch\\nn\\modules\\module.py\u001b[0m in \u001b[0;36m__call__\u001b[1;34m(self, *input, **kwargs)\u001b[0m\n\u001b[0;32m    539\u001b[0m             \u001b[0mresult\u001b[0m \u001b[1;33m=\u001b[0m \u001b[0mself\u001b[0m\u001b[1;33m.\u001b[0m\u001b[0m_slow_forward\u001b[0m\u001b[1;33m(\u001b[0m\u001b[1;33m*\u001b[0m\u001b[0minput\u001b[0m\u001b[1;33m,\u001b[0m \u001b[1;33m**\u001b[0m\u001b[0mkwargs\u001b[0m\u001b[1;33m)\u001b[0m\u001b[1;33m\u001b[0m\u001b[1;33m\u001b[0m\u001b[0m\n\u001b[0;32m    540\u001b[0m         \u001b[1;32melse\u001b[0m\u001b[1;33m:\u001b[0m\u001b[1;33m\u001b[0m\u001b[1;33m\u001b[0m\u001b[0m\n\u001b[1;32m--> 541\u001b[1;33m             \u001b[0mresult\u001b[0m \u001b[1;33m=\u001b[0m \u001b[0mself\u001b[0m\u001b[1;33m.\u001b[0m\u001b[0mforward\u001b[0m\u001b[1;33m(\u001b[0m\u001b[1;33m*\u001b[0m\u001b[0minput\u001b[0m\u001b[1;33m,\u001b[0m \u001b[1;33m**\u001b[0m\u001b[0mkwargs\u001b[0m\u001b[1;33m)\u001b[0m\u001b[1;33m\u001b[0m\u001b[1;33m\u001b[0m\u001b[0m\n\u001b[0m\u001b[0;32m    542\u001b[0m         \u001b[1;32mfor\u001b[0m \u001b[0mhook\u001b[0m \u001b[1;32min\u001b[0m \u001b[0mself\u001b[0m\u001b[1;33m.\u001b[0m\u001b[0m_forward_hooks\u001b[0m\u001b[1;33m.\u001b[0m\u001b[0mvalues\u001b[0m\u001b[1;33m(\u001b[0m\u001b[1;33m)\u001b[0m\u001b[1;33m:\u001b[0m\u001b[1;33m\u001b[0m\u001b[1;33m\u001b[0m\u001b[0m\n\u001b[0;32m    543\u001b[0m             \u001b[0mhook_result\u001b[0m \u001b[1;33m=\u001b[0m \u001b[0mhook\u001b[0m\u001b[1;33m(\u001b[0m\u001b[0mself\u001b[0m\u001b[1;33m,\u001b[0m \u001b[0minput\u001b[0m\u001b[1;33m,\u001b[0m \u001b[0mresult\u001b[0m\u001b[1;33m)\u001b[0m\u001b[1;33m\u001b[0m\u001b[1;33m\u001b[0m\u001b[0m\n",
      "\u001b[1;32m<ipython-input-11-f30882bab4fe>\u001b[0m in \u001b[0;36mforward\u001b[1;34m(self, x)\u001b[0m\n\u001b[0;32m     27\u001b[0m \u001b[1;33m\u001b[0m\u001b[0m\n\u001b[0;32m     28\u001b[0m         \u001b[1;32mfor\u001b[0m \u001b[0mt\u001b[0m \u001b[1;32min\u001b[0m \u001b[0mrange\u001b[0m\u001b[1;33m(\u001b[0m\u001b[0mx\u001b[0m\u001b[1;33m.\u001b[0m\u001b[0mshape\u001b[0m\u001b[1;33m[\u001b[0m\u001b[1;36m0\u001b[0m\u001b[1;33m]\u001b[0m\u001b[1;33m)\u001b[0m\u001b[1;33m:\u001b[0m\u001b[1;33m\u001b[0m\u001b[1;33m\u001b[0m\u001b[0m\n\u001b[1;32m---> 29\u001b[1;33m             \u001b[0mmemory\u001b[0m \u001b[1;33m=\u001b[0m \u001b[0mself\u001b[0m\u001b[1;33m.\u001b[0m\u001b[0mrecurrent_layer\u001b[0m\u001b[1;33m(\u001b[0m\u001b[0mtorch\u001b[0m\u001b[1;33m.\u001b[0m\u001b[0mcat\u001b[0m\u001b[1;33m(\u001b[0m\u001b[1;33m[\u001b[0m\u001b[0mx\u001b[0m\u001b[1;33m[\u001b[0m\u001b[1;33m[\u001b[0m\u001b[0mt\u001b[0m\u001b[1;33m]\u001b[0m\u001b[1;33m]\u001b[0m\u001b[1;33m,\u001b[0m \u001b[0mmemory\u001b[0m\u001b[1;33m]\u001b[0m\u001b[1;33m,\u001b[0m \u001b[0maxis\u001b[0m\u001b[1;33m=\u001b[0m\u001b[1;36m1\u001b[0m\u001b[1;33m)\u001b[0m\u001b[1;33m)\u001b[0m\u001b[1;33m\u001b[0m\u001b[1;33m\u001b[0m\u001b[0m\n\u001b[0m\u001b[0;32m     30\u001b[0m             \u001b[0mout\u001b[0m\u001b[1;33m.\u001b[0m\u001b[0mappend\u001b[0m\u001b[1;33m(\u001b[0m\u001b[0mself\u001b[0m\u001b[1;33m.\u001b[0m\u001b[0mclassifier\u001b[0m\u001b[1;33m(\u001b[0m\u001b[0mmemory\u001b[0m\u001b[1;33m)\u001b[0m\u001b[1;33m)\u001b[0m\u001b[1;33m\u001b[0m\u001b[1;33m\u001b[0m\u001b[0m\n\u001b[0;32m     31\u001b[0m \u001b[1;33m\u001b[0m\u001b[0m\n",
      "\u001b[1;31mKeyboardInterrupt\u001b[0m: "
     ]
    }
   ],
   "source": [
    "iterations=500\n",
    "losses = [np.inf]\n",
    "batch_size = 25\n",
    "for i in range(iterations):\n",
    "    dinos = df[0].sample(batch_size).values\n",
    "    for dino in dinos:\n",
    "        x = OneHot(dino)\n",
    "        x_hat = model(x)\n",
    "        loss = loss_func(x_hat[:-1], torch.argmax(x[1:], axis=1))\n",
    "        loss.backward()\n",
    "        losses.append(loss.detach())\n",
    "    optim.step()\n",
    "    optim.zero_grad()\n",
    "    print('{:>5} | {:0.3}\\r'.format(i, losses[-1]), end='')"
   ]
  },
  {
   "cell_type": "code",
   "execution_count": null,
   "metadata": {},
   "outputs": [],
   "source": [
    "plt.plot(losses)"
   ]
  },
  {
   "cell_type": "code",
   "execution_count": 17,
   "metadata": {},
   "outputs": [
    {
     "data": {
      "text/plain": [
       "'uooooooooo'"
      ]
     },
     "execution_count": 17,
     "metadata": {},
     "output_type": "execute_result"
    }
   ],
   "source": [
    "''.join(list(map(lambda c: chr(c+ord('a')), torch.argmax(x_hat, axis=1))))"
   ]
  },
  {
   "cell_type": "code",
   "execution_count": 18,
   "metadata": {},
   "outputs": [
    {
     "name": "stdout",
     "output_type": "stream",
     "text": [
      "abydosaurus\n",
      "uoooooooooooo\n"
     ]
    }
   ],
   "source": [
    "print(df[0][5])\n",
    "x_hat = model.forward(OneHot(df[0][5]))\n",
    "print(''.join(list(map(lambda c: chr(c+ord('a')), torch.argmax(x_hat, axis=1)))))"
   ]
  },
  {
   "cell_type": "code",
   "execution_count": 10,
   "metadata": {},
   "outputs": [
    {
     "data": {
      "text/plain": [
       "tensor([[0., 0., 0., 0., 0., 0., 0., 0., 0., 0., 0., 0., 0., 0., 0., 0., 0., 0.,\n",
       "         0., 0., 0., 0., 0., 0., 0., 0., 1., 0.],\n",
       "        [0., 0., 1., 0., 0., 0., 0., 0., 0., 0., 0., 0., 0., 0., 0., 0., 0., 0.,\n",
       "         0., 0., 0., 0., 0., 0., 0., 0., 0., 0.],\n",
       "        [0., 0., 0., 0., 0., 0., 0., 0., 0., 0., 0., 0., 0., 0., 0., 0., 0., 1.,\n",
       "         0., 0., 0., 0., 0., 0., 0., 0., 0., 0.],\n",
       "        [0., 0., 0., 0., 0., 0., 0., 0., 1., 0., 0., 0., 0., 0., 0., 0., 0., 0.,\n",
       "         0., 0., 0., 0., 0., 0., 0., 0., 0., 0.],\n",
       "        [0., 0., 1., 0., 0., 0., 0., 0., 0., 0., 0., 0., 0., 0., 0., 0., 0., 0.,\n",
       "         0., 0., 0., 0., 0., 0., 0., 0., 0., 0.],\n",
       "        [0., 0., 0., 0., 0., 0., 0., 1., 0., 0., 0., 0., 0., 0., 0., 0., 0., 0.,\n",
       "         0., 0., 0., 0., 0., 0., 0., 0., 0., 0.],\n",
       "        [0., 0., 0., 0., 0., 0., 0., 0., 0., 0., 0., 0., 0., 0., 0., 0., 0., 0.,\n",
       "         0., 1., 0., 0., 0., 0., 0., 0., 0., 0.],\n",
       "        [0., 0., 0., 0., 0., 0., 0., 0., 0., 0., 0., 0., 0., 0., 1., 0., 0., 0.,\n",
       "         0., 0., 0., 0., 0., 0., 0., 0., 0., 0.],\n",
       "        [0., 0., 0., 0., 0., 0., 0., 0., 0., 0., 0., 0., 0., 1., 0., 0., 0., 0.,\n",
       "         0., 0., 0., 0., 0., 0., 0., 0., 0., 0.],\n",
       "        [0., 0., 0., 0., 0., 0., 0., 0., 0., 0., 0., 0., 0., 0., 0., 0., 0., 0.,\n",
       "         1., 0., 0., 0., 0., 0., 0., 0., 0., 0.],\n",
       "        [1., 0., 0., 0., 0., 0., 0., 0., 0., 0., 0., 0., 0., 0., 0., 0., 0., 0.,\n",
       "         0., 0., 0., 0., 0., 0., 0., 0., 0., 0.],\n",
       "        [0., 0., 0., 0., 0., 0., 0., 0., 0., 0., 0., 0., 0., 0., 0., 0., 0., 0.,\n",
       "         0., 0., 1., 0., 0., 0., 0., 0., 0., 0.],\n",
       "        [0., 0., 0., 0., 0., 0., 0., 0., 0., 0., 0., 0., 0., 0., 0., 0., 0., 1.,\n",
       "         0., 0., 0., 0., 0., 0., 0., 0., 0., 0.],\n",
       "        [0., 0., 0., 0., 0., 0., 0., 0., 0., 0., 0., 0., 0., 0., 0., 0., 0., 0.,\n",
       "         0., 0., 1., 0., 0., 0., 0., 0., 0., 0.],\n",
       "        [0., 0., 0., 0., 0., 0., 0., 0., 0., 0., 0., 0., 0., 0., 0., 0., 0., 0.,\n",
       "         1., 0., 0., 0., 0., 0., 0., 0., 0., 0.],\n",
       "        [0., 0., 0., 0., 0., 0., 0., 0., 0., 0., 0., 0., 0., 0., 0., 0., 0., 0.,\n",
       "         0., 0., 0., 0., 0., 0., 0., 0., 0., 1.]], device='cuda:0')"
      ]
     },
     "execution_count": 10,
     "metadata": {},
     "output_type": "execute_result"
    }
   ],
   "source": [
    "x"
   ]
  },
  {
   "cell_type": "code",
   "execution_count": null,
   "metadata": {},
   "outputs": [],
   "source": []
  }
 ],
 "metadata": {
  "kernelspec": {
   "display_name": "Python 3",
   "language": "python",
   "name": "python3"
  },
  "language_info": {
   "codemirror_mode": {
    "name": "ipython",
    "version": 3
   },
   "file_extension": ".py",
   "mimetype": "text/x-python",
   "name": "python",
   "nbconvert_exporter": "python",
   "pygments_lexer": "ipython3",
   "version": "3.7.4"
  }
 },
 "nbformat": 4,
 "nbformat_minor": 4
}
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\n",
      "text/plain": [
       "<Figure size 432x288 with 1 Axes>"
      ]
     },
     "metadata": {
      "needs_background": "light"
     },
     "output_type": "display_data"
    }
   ],
   "source": [
    "plt.plot(losses)"
   ]
  },
  {
   "cell_type": "code",
   "execution_count": 36,
   "metadata": {},
   "outputs": [
    {
     "data": {
      "text/plain": [
       "'aeaaaaaaaaaaaaa'"
      ]
     },
     "execution_count": 36,
     "metadata": {},
     "output_type": "execute_result"
    }
   ],
   "source": [
    "''.join(list(map(lambda c: chr(c+ord('a')), torch.argmax(x_hat, axis=1))))"
   ]
  },
  {
   "cell_type": "code",
   "execution_count": 37,
   "metadata": {},
   "outputs": [
    {
     "name": "stdout",
     "output_type": "stream",
     "text": [
      "abydosaurus\n",
      "aaaaaaaaaaaaa\n"
     ]
    }
   ],
   "source": [
    "print(df[0][5])\n",
    "x_hat = model.forward(OneHot(df[0][5]))\n",
    "print(''.join(list(map(lambda c: chr(c+ord('a')), torch.argmax(x_hat, axis=1)))))"
   ]
  },
  {
   "cell_type": "code",
   "execution_count": 11,
   "metadata": {},
   "outputs": [
    {
     "data": {
      "text/plain": [
       "tensor([[0., 0., 0., 0., 0., 0., 0., 0., 0., 0., 0., 0., 0., 0., 0., 0., 0., 0.,\n",
       "         0., 0., 0., 0., 0., 0., 0., 0., 1., 0.],\n",
       "        [0., 0., 0., 0., 0., 0., 0., 0., 0., 0., 0., 0., 0., 0., 0., 0., 0., 0.,\n",
       "         1., 0., 0., 0., 0., 0., 0., 0., 0., 0.],\n",
       "        [1., 0., 0., 0., 0., 0., 0., 0., 0., 0., 0., 0., 0., 0., 0., 0., 0., 0.,\n",
       "         0., 0., 0., 0., 0., 0., 0., 0., 0., 0.],\n",
       "        [0., 0., 0., 0., 0., 0., 0., 0., 0., 0., 0., 0., 0., 0., 0., 0., 0., 0.,\n",
       "         0., 1., 0., 0., 0., 0., 0., 0., 0., 0.],\n",
       "        [0., 0., 0., 0., 0., 0., 0., 0., 0., 0., 0., 0., 0., 0., 0., 0., 0., 0.,\n",
       "         0., 0., 1., 0., 0., 0., 0., 0., 0., 0.],\n",
       "        [0., 0., 0., 0., 0., 0., 0., 0., 0., 0., 0., 0., 0., 0., 0., 0., 0., 1.,\n",
       "         0., 0., 0., 0., 0., 0., 0., 0., 0., 0.],\n",
       "        [0., 0., 0., 0., 0., 0., 0., 0., 0., 0., 0., 0., 0., 1., 0., 0., 0., 0.,\n",
       "         0., 0., 0., 0., 0., 0., 0., 0., 0., 0.],\n",
       "        [1., 0., 0., 0., 0., 0., 0., 0., 0., 0., 0., 0., 0., 0., 0., 0., 0., 0.,\n",
       "         0., 0., 0., 0., 0., 0., 0., 0., 0., 0.],\n",
       "        [0., 0., 0., 0., 0., 0., 0., 0., 0., 0., 0., 1., 0., 0., 0., 0., 0., 0.,\n",
       "         0., 0., 0., 0., 0., 0., 0., 0., 0., 0.],\n",
       "        [0., 0., 0., 0., 0., 0., 0., 0., 1., 0., 0., 0., 0., 0., 0., 0., 0., 0.,\n",
       "         0., 0., 0., 0., 0., 0., 0., 0., 0., 0.],\n",
       "        [1., 0., 0., 0., 0., 0., 0., 0., 0., 0., 0., 0., 0., 0., 0., 0., 0., 0.,\n",
       "         0., 0., 0., 0., 0., 0., 0., 0., 0., 0.],\n",
       "        [0., 0., 0., 0., 0., 0., 0., 0., 0., 0., 0., 0., 0., 0., 0., 0., 0., 0.,\n",
       "         0., 0., 0., 0., 0., 0., 0., 0., 0., 1.]])"
      ]
     },
     "execution_count": 11,
     "metadata": {},
     "output_type": "execute_result"
    }
   ],
   "source": [
    "x"
   ]
  },
  {
   "cell_type": "code",
   "execution_count": 56,
   "metadata": {},
   "outputs": [
    {
     "data": {
      "text/plain": [
       "torch.Size([3, 28])"
      ]
     },
     "execution_count": 56,
     "metadata": {},
     "output_type": "execute_result"
    }
   ],
   "source": [
    "OneHot('c').shape"
   ]
  },
  {
   "cell_type": "code",
   "execution_count": 57,
   "metadata": {},
   "outputs": [
    {
     "name": "stdout",
     "output_type": "stream",
     "text": [
      "c tensor([0., 0., 1., 0., 0., 0., 0., 0., 0., 0., 0., 0., 0., 0., 0., 0., 0., 0.,\n",
      "        0., 0., 0., 0., 0., 0., 0., 0., 0., 0.])\n",
      "tensor([[9.7808e-01, 6.0303e-01, 9.9147e-01, 9.6814e-01, 5.5313e-01, 9.2639e-05,\n",
      "         4.9923e-01, 6.6069e-01, 4.0870e-05, 1.1764e-04, 7.9918e-04, 9.2760e-01,\n",
      "         8.3994e-01, 2.5926e-01, 1.5090e-02, 9.9442e-01, 2.1593e-04, 4.7680e-02,\n",
      "         9.9375e-01, 9.8902e-01, 1.9492e-03, 6.1319e-05, 1.5995e-03, 2.5728e-05,\n",
      "         2.0735e-04, 3.9969e-03, 3.9187e-04, 4.6763e-05],\n",
      "        [9.9201e-01, 2.4971e-04, 6.3126e-03, 8.3885e-05, 9.9933e-01, 4.2872e-05,\n",
      "         2.7622e-04, 9.9646e-01, 9.8837e-01, 6.5006e-04, 7.3798e-05, 2.6867e-01,\n",
      "         2.9387e-04, 1.1664e-02, 9.8610e-01, 3.9857e-03, 1.4448e-05, 9.6707e-01,\n",
      "         1.7945e-03, 7.4590e-03, 3.5301e-01, 1.3653e-06, 3.5343e-05, 8.2853e-08,\n",
      "         1.4029e-02, 2.8721e-06, 1.2253e-04, 6.4987e-06],\n",
      "        [9.9360e-01, 1.2123e-04, 1.4005e-02, 9.0370e-06, 9.3201e-01, 4.3743e-05,\n",
      "         1.5059e-04, 3.7830e-01, 9.8909e-01, 6.6016e-05, 8.3555e-04, 3.4223e-01,\n",
      "         5.6252e-05, 1.0202e-01, 9.8136e-01, 1.0612e-02, 3.1758e-05, 4.4895e-01,\n",
      "         1.9552e-03, 1.1792e-01, 4.4770e-01, 6.9212e-06, 4.9384e-05, 9.5208e-07,\n",
      "         3.7568e-01, 6.3294e-06, 8.9886e-05, 2.8075e-03]],\n",
      "       grad_fn=<CatBackward>) dino\n",
      " char\n"
     ]
    },
    {
     "ename": "IndexError",
     "evalue": "index 32 is out of bounds for dimension 1 with size 28",
     "output_type": "error",
     "traceback": [
      "\u001b[1;31m---------------------------------------------------------------------------\u001b[0m",
      "\u001b[1;31mIndexError\u001b[0m                                Traceback (most recent call last)",
      "\u001b[1;32m<ipython-input-57-a07572e27659>\u001b[0m in \u001b[0;36m<module>\u001b[1;34m\u001b[0m\n\u001b[1;32m----> 1\u001b[1;33m \u001b[0mx_gen\u001b[0m \u001b[1;33m=\u001b[0m \u001b[0mmodel\u001b[0m\u001b[1;33m.\u001b[0m\u001b[0mgenerate\u001b[0m\u001b[1;33m(\u001b[0m\u001b[1;34m'c'\u001b[0m\u001b[1;33m,\u001b[0m \u001b[1;36m8\u001b[0m\u001b[1;33m)\u001b[0m\u001b[1;33m\u001b[0m\u001b[1;33m\u001b[0m\u001b[0m\n\u001b[0m\u001b[0;32m      2\u001b[0m \u001b[0mprint\u001b[0m\u001b[1;33m(\u001b[0m\u001b[1;34m''\u001b[0m\u001b[1;33m.\u001b[0m\u001b[0mjoin\u001b[0m\u001b[1;33m(\u001b[0m\u001b[0mlist\u001b[0m\u001b[1;33m(\u001b[0m\u001b[0mmap\u001b[0m\u001b[1;33m(\u001b[0m\u001b[1;32mlambda\u001b[0m \u001b[0mc\u001b[0m\u001b[1;33m:\u001b[0m \u001b[0mchr\u001b[0m\u001b[1;33m(\u001b[0m\u001b[0mc\u001b[0m\u001b[1;33m+\u001b[0m\u001b[0mord\u001b[0m\u001b[1;33m(\u001b[0m\u001b[1;34m'a'\u001b[0m\u001b[1;33m)\u001b[0m\u001b[1;33m)\u001b[0m\u001b[1;33m,\u001b[0m \u001b[0mtorch\u001b[0m\u001b[1;33m.\u001b[0m\u001b[0margmax\u001b[0m\u001b[1;33m(\u001b[0m\u001b[0mx_hat\u001b[0m\u001b[1;33m,\u001b[0m \u001b[0maxis\u001b[0m\u001b[1;33m=\u001b[0m\u001b[1;36m1\u001b[0m\u001b[1;33m)\u001b[0m\u001b[1;33m)\u001b[0m\u001b[1;33m)\u001b[0m\u001b[1;33m)\u001b[0m\u001b[1;33m)\u001b[0m\u001b[1;33m\u001b[0m\u001b[1;33m\u001b[0m\u001b[0m\n",
      "\u001b[1;32m<ipython-input-53-529b5dc23078>\u001b[0m in \u001b[0;36mgenerate\u001b[1;34m(self, start_char, max_len)\u001b[0m\n\u001b[0;32m     39\u001b[0m         \u001b[0mprint\u001b[0m\u001b[1;33m(\u001b[0m\u001b[0mc\u001b[0m\u001b[1;33m,\u001b[0m\u001b[1;34m'char'\u001b[0m\u001b[1;33m)\u001b[0m\u001b[1;33m\u001b[0m\u001b[1;33m\u001b[0m\u001b[0m\n\u001b[0;32m     40\u001b[0m         \u001b[1;32mfor\u001b[0m \u001b[0mi\u001b[0m \u001b[1;32min\u001b[0m \u001b[0mrange\u001b[0m\u001b[1;33m(\u001b[0m\u001b[0mmax_len\u001b[0m\u001b[1;33m-\u001b[0m\u001b[1;36m1\u001b[0m\u001b[1;33m)\u001b[0m\u001b[1;33m:\u001b[0m\u001b[1;33m\u001b[0m\u001b[1;33m\u001b[0m\u001b[0m\n\u001b[1;32m---> 41\u001b[1;33m             \u001b[0mnext_char\u001b[0m \u001b[1;33m=\u001b[0m \u001b[0mself\u001b[0m\u001b[1;33m.\u001b[0m\u001b[0mforward\u001b[0m\u001b[1;33m(\u001b[0m\u001b[0mOneHot\u001b[0m\u001b[1;33m(\u001b[0m\u001b[0mc\u001b[0m\u001b[1;33m)\u001b[0m\u001b[1;33m)\u001b[0m\u001b[1;33m\u001b[0m\u001b[1;33m\u001b[0m\u001b[0m\n\u001b[0m\u001b[0;32m     42\u001b[0m             \u001b[0mc\u001b[0m \u001b[1;33m=\u001b[0m \u001b[0mchr\u001b[0m\u001b[1;33m(\u001b[0m\u001b[0mtorch\u001b[0m\u001b[1;33m.\u001b[0m\u001b[0margmax\u001b[0m\u001b[1;33m(\u001b[0m\u001b[0mnext_char\u001b[0m\u001b[1;33m)\u001b[0m\u001b[1;33m+\u001b[0m\u001b[0mord\u001b[0m\u001b[1;33m(\u001b[0m\u001b[1;34m'a'\u001b[0m\u001b[1;33m)\u001b[0m\u001b[1;33m)\u001b[0m\u001b[1;33m\u001b[0m\u001b[1;33m\u001b[0m\u001b[0m\n\u001b[0;32m     43\u001b[0m             \u001b[1;32mif\u001b[0m \u001b[0mc\u001b[0m \u001b[1;33m==\u001b[0m \u001b[1;34m'|'\u001b[0m\u001b[1;33m:\u001b[0m\u001b[1;33m\u001b[0m\u001b[1;33m\u001b[0m\u001b[0m\n",
      "\u001b[1;32m<ipython-input-4-0dfc8cac3a91>\u001b[0m in \u001b[0;36mOneHot\u001b[1;34m(word)\u001b[0m\n\u001b[0;32m      4\u001b[0m     \u001b[0mcodes\u001b[0m \u001b[1;33m=\u001b[0m \u001b[0mlist\u001b[0m\u001b[1;33m(\u001b[0m\u001b[0mmap\u001b[0m\u001b[1;33m(\u001b[0m\u001b[1;32mlambda\u001b[0m \u001b[0mx\u001b[0m\u001b[1;33m:\u001b[0m \u001b[0mord\u001b[0m\u001b[1;33m(\u001b[0m\u001b[0mx\u001b[0m\u001b[1;33m)\u001b[0m \u001b[1;33m-\u001b[0m \u001b[0ma\u001b[0m\u001b[1;33m,\u001b[0m \u001b[0mword\u001b[0m\u001b[1;33m)\u001b[0m\u001b[1;33m)\u001b[0m\u001b[1;33m\u001b[0m\u001b[1;33m\u001b[0m\u001b[0m\n\u001b[0;32m      5\u001b[0m     \u001b[0mencoding\u001b[0m \u001b[1;33m=\u001b[0m \u001b[0mtorch\u001b[0m\u001b[1;33m.\u001b[0m\u001b[0mzeros\u001b[0m\u001b[1;33m(\u001b[0m\u001b[1;33m[\u001b[0m\u001b[0mlen\u001b[0m\u001b[1;33m(\u001b[0m\u001b[0mword\u001b[0m\u001b[1;33m)\u001b[0m\u001b[1;33m,\u001b[0m \u001b[1;36m28\u001b[0m\u001b[1;33m]\u001b[0m\u001b[1;33m)\u001b[0m\u001b[1;33m\u001b[0m\u001b[1;33m\u001b[0m\u001b[0m\n\u001b[1;32m----> 6\u001b[1;33m     \u001b[0mencoding\u001b[0m\u001b[1;33m[\u001b[0m\u001b[0mrange\u001b[0m\u001b[1;33m(\u001b[0m\u001b[0mlen\u001b[0m\u001b[1;33m(\u001b[0m\u001b[0mword\u001b[0m\u001b[1;33m)\u001b[0m\u001b[1;33m)\u001b[0m\u001b[1;33m,\u001b[0m\u001b[0mcodes\u001b[0m\u001b[1;33m]\u001b[0m \u001b[1;33m+=\u001b[0m \u001b[1;36m1\u001b[0m\u001b[1;33m\u001b[0m\u001b[1;33m\u001b[0m\u001b[0m\n\u001b[0m\u001b[0;32m      7\u001b[0m \u001b[1;33m\u001b[0m\u001b[0m\n\u001b[0;32m      8\u001b[0m     \u001b[1;32mreturn\u001b[0m \u001b[0mencoding\u001b[0m\u001b[1;33m\u001b[0m\u001b[1;33m\u001b[0m\u001b[0m\n",
      "\u001b[1;31mIndexError\u001b[0m: index 32 is out of bounds for dimension 1 with size 28"
     ]
    }
   ],
   "source": [
    "x_gen = model.generate('c', 8)\n",
    "print(''.join(list(map(lambda c: chr(c+ord('a')), torch.argmax(x_hat, axis=1)))))"
   ]
  },
  {
   "cell_type": "code",
   "execution_count": null,
   "metadata": {},
   "outputs": [],
   "source": []
  }
 ],
 "metadata": {
  "kernelspec": {
   "display_name": "Python 3",
   "language": "python",
   "name": "python3"
  },
  "language_info": {
   "codemirror_mode": {
    "name": "ipython",
    "version": 3
   },
   "file_extension": ".py",
   "mimetype": "text/x-python",
   "name": "python",
   "nbconvert_exporter": "python",
   "pygments_lexer": "ipython3",
   "version": "3.7.6"
  }
 },
 "nbformat": 4,
 "nbformat_minor": 4
}
