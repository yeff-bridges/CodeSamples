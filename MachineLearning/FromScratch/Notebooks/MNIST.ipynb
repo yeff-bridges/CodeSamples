{
 "cells": [
  {
   "cell_type": "code",
   "execution_count": 1,
   "metadata": {},
   "outputs": [],
   "source": [
    "import torch\n",
    "import torchvision\n",
    "import numpy as np\n",
    "import pandas as pd\n",
    "from matplotlib import pyplot as plt"
   ]
  },
  {
   "cell_type": "code",
   "execution_count": 2,
   "metadata": {},
   "outputs": [],
   "source": [
    "train = torchvision.datasets.MNIST(root='./train', train=True, download=True)\n",
    "test = torchvision.datasets.MNIST(root='./test', train=False, download=True)"
   ]
  },
  {
   "cell_type": "code",
   "execution_count": 3,
   "metadata": {},
   "outputs": [],
   "source": [
    "x_train = train.data\n",
    "x_test = test.data\n",
    "y_train = train.targets\n",
    "y_test = test.targets"
   ]
  },
  {
   "cell_type": "code",
   "execution_count": 9,
   "metadata": {},
   "outputs": [
    {
     "data": {
      "text/plain": [
       "torch.Tensor"
      ]
     },
     "execution_count": 9,
     "metadata": {},
     "output_type": "execute_result"
    }
   ],
   "source": [
    "x_train = torch.reshape(x_train, (x_train.shape[0], -1)).float() / 255\n",
    "x_test = torch.reshape(x_test, (x_test.shape[0], -1)).float() / 255\n",
    "x_train.shape,x_test.shape"
   ]
  },
  {
   "cell_type": "code",
   "execution_count": 5,
   "metadata": {},
   "outputs": [],
   "source": [
    "class Layer(torch.nn.Module):\n",
    "    def __init__(self, size_in, size_out, activation_func):\n",
    "        super().__init__()\n",
    "        self.w = torch.nn.Parameter(torch.randn(size_in,size_out, requires_grad = True))\n",
    "        self.b = torch.nn.Parameter(torch.randn(1,size_out, requires_grad = True))\n",
    "        self.activation_func = activation_func\n",
    "\n",
    "    def forward(self, z_in):\n",
    "        return self.activation_func(z_in @ self.w + self.b)"
   ]
  },
  {
   "cell_type": "code",
   "execution_count": 10,
   "metadata": {},
   "outputs": [
    {
     "data": {
      "text/plain": [
       "[<matplotlib.lines.Line2D at 0x21a7dd15a88>]"
      ]
     },
     "execution_count": 10,
     "metadata": {},
     "output_type": "execute_result"
    },
    {
     "data": {
      "image/png": "[encoded data removed]",
      "text/plain": [
       "<Figure size 432x288 with 1 Axes>"
      ]
     },
     "metadata": {
      "needs_background": "light"
     },
     "output_type": "display_data"
    }
   ],
   "source": [
    "model = Layer(784, 10, torch.nn.Softmax(dim=1))\n",
    "Loss = torch.nn.CrossEntropyLoss()\n",
    "iterations = 1000\n",
    "optim = torch.optim.Adam(model.parameters(), 1e-4)\n",
    "losses = []\n",
    "for i in range(iterations):\n",
    "    y_hat = model(x_train)\n",
    "    J = Loss(y_hat, y_train)\n",
    "    J.backward()\n",
    "    optim.step()\n",
    "    optim.zero_grad()\n",
    "    losses.append(J.detach())\n",
    "plt.plot(losses)"
   ]
  },
  {
   "cell_type": "code",
   "execution_count": 28,
   "metadata": {},
   "outputs": [
    {
     "data": {
      "text/plain": [
       "tensor(0)"
      ]
     },
     "execution_count": 28,
     "metadata": {},
     "output_type": "execute_result"
    }
   ],
   "source": [
    "y_hat = model(x_train)\n",
    "torch.min(y_train)\n",
    "#torch.sum(torch.eq(y_train,torch.argmax(y_hat,dim=1))) / 60000"
   ]
  },
  {
   "cell_type": "code",
   "execution_count": null,
   "metadata": {},
   "outputs": [],
   "source": [
    "class NN(torch.nn.Module):\n",
    "    def __init__(self, size_in, size_out, activation_func):\n",
    "        super().__init__()\n",
    "        self.layers = nn.ModuleList()\n",
    "        \n",
    "        self.layers.append(Layer(size_in, ))"
   ]
  }
 ],
 "metadata": {
  "kernelspec": {
   "display_name": "Python 3.7.6 64-bit",
   "language": "python",
   "name": "python37664bit5f5f7d6017f24ee3b341f260f3adb369"
  },
  "language_info": {
   "codemirror_mode": {
    "name": "ipython",
    "version": 3
   },
   "file_extension": ".py",
   "mimetype": "text/x-python",
   "name": "python",
   "nbconvert_exporter": "python",
   "pygments_lexer": "ipython3",
   "version": "3.7.6"
  }
 },
 "nbformat": 4,
 "nbformat_minor": 4
}
