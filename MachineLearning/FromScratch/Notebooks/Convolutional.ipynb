{
 "cells": [
  {
   "cell_type": "code",
   "execution_count": 1,
   "metadata": {},
   "outputs": [],
   "source": [
    "import numpy as np\n",
    "from matplotlib import pyplot as plt\n",
    "from scipy.signal import convolve2d as conv\n",
    "from scipy.signal import correlate2d as corr\n",
    "from FromScratchModule.NNet import Base_Layer"
   ]
  },
  {
   "cell_type": "code",
   "execution_count": 2,
   "metadata": {},
   "outputs": [],
   "source": [
    "a = np.random.randint(0,3,size=[2,5,5])  # (C, L, W)"
   ]
  },
  {
   "cell_type": "code",
   "execution_count": 3,
   "metadata": {},
   "outputs": [],
   "source": [
    "class Convolutional(Base_Layer):\n",
    "    def __init__(self, channels_in, channels_out, filter_size, learn_rate=1e-3, activation_func=lambda x: x*(x>0), padding='same'):\n",
    "        self.filters = np.random.rand(channels_out, channels_in, filter_size, filter_size)\n",
    "        self.activation_func = activation_func\n",
    "        self.padding = padding\n",
    "        self.learn_rate = learn_rate\n",
    "        \n",
    "    def Forward(self, x):\n",
    "        out = [np.sum([corr(x[channel], f[channel], mode='same') for channel in range(x.shape[0])], axis=0)\n",
    "               for f in self.filters]\n",
    "\n",
    "        out = np.stack(out)\n",
    "        return out\n",
    "    \n",
    "    def Backward(self, z_in, y):\n",
    "        h_out = np.stack([np.sum([corr(z_in[channel], f[channel], mode='same') for channel in range(z_in.shape[0])], axis=0)\n",
    "               for f in self.filters])\n",
    "        \n",
    "        z_out = self.activation_func(h_out)\n",
    "        \n",
    "        grad_after = self.after.Backward(z_out, y)\n",
    "        \n",
    "        grad_h = grad_after * self.activation_func.D(h)\n",
    "        \n",
    "        for f in range(self.filters.shape[0]):\n",
    "            grad_inner = []\n",
    "            for channel in range(self.filters.shape[1]):\n",
    "                grad_inner.append(correlate2d(grad_h[f], z_in[channel], mode='same'))\n",
    "            grad_f.append(np.stack(grad_inner))\n",
    "        grad_f = np.stack(grad_f)\n",
    "        \n",
    "        grad_z_in = []\n",
    "        for channel in range(self.filters.shape[1]):\n",
    "            grad_inner = 0\n",
    "            for channel in range(self.filters.shape[0]):\n",
    "                grad_inner += convolve2d(grad_h[f], self.filters[f, channel], mode='same')\n",
    "            grad_z_in.append(grad_inner)\n",
    "        grad_z_in = np.stack(grad_z_in)\n",
    "        \n",
    "        self.filters -= grad_f*self.learn_rate"
   ]
  },
  {
   "cell_type": "code",
   "execution_count": 4,
   "metadata": {},
   "outputs": [],
   "source": [
    "model = Convolutional(2, 7, 3)"
   ]
  },
  {
   "cell_type": "code",
   "execution_count": 13,
   "metadata": {},
   "outputs": [
    {
     "data": {
      "text/plain": "(7, 5, 5)"
     },
     "execution_count": 13,
     "metadata": {},
     "output_type": "execute_result"
    }
   ],
   "source": [
    "z = model.Forward(a)\n",
    "z.shape"
   ]
  },
  {
   "cell_type": "code",
   "execution_count": 22,
   "metadata": {},
   "outputs": [],
   "source": []
  },
  {
   "cell_type": "code",
   "execution_count": 66,
   "metadata": {},
   "outputs": [],
   "source": [
    "class MaxPoolingLayer(Base_Layer):\n",
    "    def __init__(self, factor):\n",
    "        self.factor = factor\n",
    "            \n",
    "        \n",
    "    def Forward(self, z_in):\n",
    "        out_height = int(np.ceil(float(z_in.shape[1]) * self.factor))\n",
    "        out_width = int(np.ceil(float(z_in.shape[2]) * self.factor))\n",
    "\n",
    "        pool_height = np.maximum(1, int(z_in.shape[1] * (1 - self.factor)))\n",
    "        pool_width = np.maximum(1, int(z_in.shape[2] * (1 - self.factor)))\n",
    "        \n",
    "        z_out = np.zeros([z_in.shape[0], out_height, out_width])\n",
    "        \n",
    "        print(z_in)\n",
    "\n",
    "        for i,mat in enumerate(z_in):\n",
    "            print(mat)\n",
    "            for j in range(out_width - 1):\n",
    "                for k in range(out_height - 1):\n",
    "                    p = mat[k*pool_height:(k+1)*pool_height, j*pool_width:(j+1)*pool_width]\n",
    "                    print((i,j,k), p)\n",
    "                    z_out[i,j,k] = p.max()\n",
    "                p = mat[(out_height - 1)*pool_height:, j*pool_width:(j+1)*pool_width]\n",
    "                print((i,j,k), p)\n",
    "                z_out[i, j, -1] = p.max()\n",
    "            \n",
    "            for k in range(out_height - 1):\n",
    "                p = mat[k*pool_height:(k+1)*pool_height, (out_width - 1)*pool_width:]\n",
    "                print((i,j,k), p)\n",
    "                z_out[i,-1,k] = p.max()\n",
    "            p = mat[(out_height - 1)*pool_height:, (out_width - 1)*pool_width:]\n",
    "            print((i,j,k), p)\n",
    "            z_out[i, -1, -1] = p.max()\n",
    "                    \n",
    "        return z_out.T\n",
    "    \n",
    "    \n",
    "    def Backward(self, z_in, y):\n",
    "        pool_height = int(np.floor(z_in.shape[1] * self.factor))\n",
    "        pool_width = int(np.floor(z_in.shape[2] * self.factor))\n",
    "        \n",
    "        grad_height = int(np.ceil(float(z_in.shape[1]) / pool_height))\n",
    "        grad_width = int(np.ceil(float(z_in.shape[2]) / pool_width))\n",
    "        grad_z_in = np.zeros([x.shape[0], grad_height, grad_width])\n",
    "        \n",
    "        grad_after = self.after.Backward(z_in, y)\n",
    "        \n",
    "        for i,mat in enumerate(z_in):\n",
    "            for j in range(grad_width - 1):\n",
    "                for k in range(grad_height - 1):\n",
    "                    ind = np.argmax(mat[k*pool_height:(k+1)*pool_height, j*pool_width:(j+1)*pool_width])\n",
    "                    grad_z_in[i,j,k] = grad_after[ind]\n",
    "                ind = np.argmax(mat[(grad_height - 1)*pool_height:, j*pool_width:(j+1)*pool_width])\n",
    "                grad_after[i, j, -1] = grad_after[ind]\n",
    "                \n",
    "            for k in range(grad_height - 1):\n",
    "                ind = np.argmax(mat[k*pool_height:(k+1)*pool_height, (j+1)*pool_width:])\n",
    "                grad_z_in[i,-1,k] = grad_after[ind]\n",
    "            ind = np.argmax(mat[(grad_height - 1)*pool_height:, (grad_width - 1)*pool_width:])\n",
    "            grad_z_in[i, -1, -1] = grad_after[ind]\n",
    "                    \n",
    "        return grad_z_in\n",
    "        \n",
    "                  \n",
    "### Use np.array_split"
   ]
  },
  {
   "cell_type": "code",
   "execution_count": 72,
   "metadata": {},
   "outputs": [
    {
     "ename": "AttributeError",
     "evalue": "'MaxPoolingLayer' object has no attribute 'Forward'",
     "output_type": "error",
     "traceback": [
      "\u001b[1;31m---------------------------------------------------------------------------\u001b[0m",
      "\u001b[1;31mAttributeError\u001b[0m                            Traceback (most recent call last)",
      "\u001b[1;32m<ipython-input-72-5def9cbd91d7>\u001b[0m in \u001b[0;36m<module>\u001b[1;34m\u001b[0m\n\u001b[0;32m      1\u001b[0m \u001b[0mpool\u001b[0m \u001b[1;33m=\u001b[0m \u001b[0mMaxPoolingLayer\u001b[0m\u001b[1;33m(\u001b[0m\u001b[1;36m0.5\u001b[0m\u001b[1;33m)\u001b[0m\u001b[1;33m\u001b[0m\u001b[1;33m\u001b[0m\u001b[0m\n\u001b[1;32m----> 2\u001b[1;33m \u001b[0mpool\u001b[0m\u001b[1;33m.\u001b[0m\u001b[0mForward\u001b[0m\u001b[1;33m(\u001b[0m\u001b[0ma\u001b[0m\u001b[1;33m)\u001b[0m\u001b[1;33m\u001b[0m\u001b[1;33m\u001b[0m\u001b[0m\n\u001b[0m",
      "\u001b[1;31mAttributeError\u001b[0m: 'MaxPoolingLayer' object has no attribute 'Forward'"
     ]
    }
   ],
   "source": [
    "pool = MaxPoolingLayer(0.5)\n",
    "pool.Forward(a)"
   ]
  },
  {
   "cell_type": "code",
   "execution_count": 64,
   "metadata": {},
   "outputs": [
    {
     "data": {
      "text/plain": "array([[[1, 2, 2, 1, 2],\n        [0, 2, 1, 2, 2],\n        [2, 0, 0, 1, 0],\n        [0, 2, 1, 0, 1],\n        [2, 0, 2, 2, 1]]])"
     },
     "execution_count": 64,
     "metadata": {},
     "output_type": "execute_result"
    }
   ],
   "source": [
    "np.reshape(a[0], (1,) + a[0].shape)"
   ]
  },
  {
   "cell_type": "code",
   "execution_count": 60,
   "metadata": {},
   "outputs": [
    {
     "data": {
      "text/plain": "array([[1, 2],\n       [0, 2]])"
     },
     "execution_count": 60,
     "metadata": {},
     "output_type": "execute_result"
    }
   ],
   "source": [
    "a[0][:2, :2]"
   ]
  },
  {
   "cell_type": "code",
   "execution_count": 42,
   "metadata": {},
   "outputs": [
    {
     "ename": "ValueError",
     "evalue": "invalid number of arguments",
     "output_type": "error",
     "traceback": [
      "\u001b[1;31m---------------------------------------------------------------------------\u001b[0m",
      "\u001b[1;31mValueError\u001b[0m                                Traceback (most recent call last)",
      "\u001b[1;32m<ipython-input-42-096448b2539d>\u001b[0m in \u001b[0;36m<module>\u001b[1;34m\u001b[0m\n\u001b[1;32m----> 1\u001b[1;33m \u001b[0mnp\u001b[0m\u001b[1;33m.\u001b[0m\u001b[0mmaximum\u001b[0m\u001b[1;33m(\u001b[0m\u001b[0ma\u001b[0m\u001b[1;33m)\u001b[0m\u001b[1;33m\u001b[0m\u001b[1;33m\u001b[0m\u001b[0m\n\u001b[0m",
      "\u001b[1;31mValueError\u001b[0m: invalid number of arguments"
     ]
    }
   ],
   "source": [
    "np.maximum(a)"
   ]
  },
  {
   "cell_type": "code",
   "execution_count": null,
   "metadata": {},
   "outputs": [],
   "source": []
  }
 ],
 "metadata": {
  "kernelspec": {
   "display_name": "Python 3.7.4 64-bit",
   "language": "python",
   "name": "python37464bit57083657bac942f288e3c37da326c439"
  },
  "language_info": {
   "codemirror_mode": {
    "name": "ipython",
    "version": 3
   },
   "file_extension": ".py",
   "mimetype": "text/x-python",
   "name": "python",
   "nbconvert_exporter": "python",
   "pygments_lexer": "ipython3",
   "version": "3.7.6-final"
  }
 },
 "nbformat": 4,
 "nbformat_minor": 4
}