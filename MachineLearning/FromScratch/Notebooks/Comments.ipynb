{
 "cells": [
  {
   "cell_type": "code",
   "execution_count": 3,
   "metadata": {},
   "outputs": [],
   "source": [
    "from nltk.tokenize import word_tokenize\n",
    "import nltk\n",
    "import numpy as np\n",
    "import pandas as pd\n",
    "from matplotlib import pyplot as plt\n",
    "from gensim.models.wrappers import FastText\n",
    "from wikipedia2vec import Wikipedia2Vec\n",
    "import torch"
   ]
  },
  {
   "cell_type": "code",
   "execution_count": 4,
   "metadata": {},
   "outputs": [
    {
     "name": "stderr",
     "output_type": "stream",
     "text": [
      "[nltk_data] Downloading package punkt to\n",
      "[nltk_data]     C:\\Users\\Jerem\\AppData\\Roaming\\nltk_data...\n",
      "[nltk_data]   Package punkt is already up-to-date!\n"
     ]
    },
    {
     "data": {
      "text/plain": [
       "True"
      ]
     },
     "execution_count": 4,
     "metadata": {},
     "output_type": "execute_result"
    }
   ],
   "source": [
    "nltk.download('punkt')"
   ]
  },
  {
   "cell_type": "code",
   "execution_count": 5,
   "metadata": {},
   "outputs": [],
   "source": [
    "documents = pd.read_csv('train.csv')"
   ]
  },
  {
   "cell_type": "code",
   "execution_count": 95,
   "metadata": {},
   "outputs": [
    {
     "data": {
      "text/html": [
       "<div>\n",
       "<style scoped>\n",
       "    .dataframe tbody tr th:only-of-type {\n",
       "        vertical-align: middle;\n",
       "    }\n",
       "\n",
       "    .dataframe tbody tr th {\n",
       "        vertical-align: top;\n",
       "    }\n",
       "\n",
       "    .dataframe thead th {\n",
       "        text-align: right;\n",
       "    }\n",
       "</style>\n",
       "<table border=\"1\" class=\"dataframe\">\n",
       "  <thead>\n",
       "    <tr style=\"text-align: right;\">\n",
       "      <th></th>\n",
       "      <th>id</th>\n",
       "      <th>comment_text</th>\n",
       "      <th>toxic</th>\n",
       "      <th>severe_toxic</th>\n",
       "      <th>obscene</th>\n",
       "      <th>threat</th>\n",
       "      <th>insult</th>\n",
       "      <th>identity_hate</th>\n",
       "    </tr>\n",
       "  </thead>\n",
       "  <tbody>\n",
       "    <tr>\n",
       "      <th>0</th>\n",
       "      <td>0000997932d777bf</td>\n",
       "      <td>Explanation\\nWhy the edits made under my usern...</td>\n",
       "      <td>0</td>\n",
       "      <td>0</td>\n",
       "      <td>0</td>\n",
       "      <td>0</td>\n",
       "      <td>0</td>\n",
       "      <td>0</td>\n",
       "    </tr>\n",
       "    <tr>\n",
       "      <th>1</th>\n",
       "      <td>000103f0d9cfb60f</td>\n",
       "      <td>D'aww! He matches this background colour I'm s...</td>\n",
       "      <td>0</td>\n",
       "      <td>0</td>\n",
       "      <td>0</td>\n",
       "      <td>0</td>\n",
       "      <td>0</td>\n",
       "      <td>0</td>\n",
       "    </tr>\n",
       "    <tr>\n",
       "      <th>2</th>\n",
       "      <td>000113f07ec002fd</td>\n",
       "      <td>Hey man, I'm really not trying to edit war. It...</td>\n",
       "      <td>0</td>\n",
       "      <td>0</td>\n",
       "      <td>0</td>\n",
       "      <td>0</td>\n",
       "      <td>0</td>\n",
       "      <td>0</td>\n",
       "    </tr>\n",
       "    <tr>\n",
       "      <th>3</th>\n",
       "      <td>0001b41b1c6bb37e</td>\n",
       "      <td>\"\\nMore\\nI can't make any real suggestions on ...</td>\n",
       "      <td>0</td>\n",
       "      <td>0</td>\n",
       "      <td>0</td>\n",
       "      <td>0</td>\n",
       "      <td>0</td>\n",
       "      <td>0</td>\n",
       "    </tr>\n",
       "    <tr>\n",
       "      <th>4</th>\n",
       "      <td>0001d958c54c6e35</td>\n",
       "      <td>You, sir, are my hero. Any chance you remember...</td>\n",
       "      <td>0</td>\n",
       "      <td>0</td>\n",
       "      <td>0</td>\n",
       "      <td>0</td>\n",
       "      <td>0</td>\n",
       "      <td>0</td>\n",
       "    </tr>\n",
       "    <tr>\n",
       "      <th>...</th>\n",
       "      <td>...</td>\n",
       "      <td>...</td>\n",
       "      <td>...</td>\n",
       "      <td>...</td>\n",
       "      <td>...</td>\n",
       "      <td>...</td>\n",
       "      <td>...</td>\n",
       "      <td>...</td>\n",
       "    </tr>\n",
       "    <tr>\n",
       "      <th>159566</th>\n",
       "      <td>ffe987279560d7ff</td>\n",
       "      <td>\":::::And for the second time of asking, when ...</td>\n",
       "      <td>0</td>\n",
       "      <td>0</td>\n",
       "      <td>0</td>\n",
       "      <td>0</td>\n",
       "      <td>0</td>\n",
       "      <td>0</td>\n",
       "    </tr>\n",
       "    <tr>\n",
       "      <th>159567</th>\n",
       "      <td>ffea4adeee384e90</td>\n",
       "      <td>You should be ashamed of yourself \\n\\nThat is ...</td>\n",
       "      <td>0</td>\n",
       "      <td>0</td>\n",
       "      <td>0</td>\n",
       "      <td>0</td>\n",
       "      <td>0</td>\n",
       "      <td>0</td>\n",
       "    </tr>\n",
       "    <tr>\n",
       "      <th>159568</th>\n",
       "      <td>ffee36eab5c267c9</td>\n",
       "      <td>Spitzer \\n\\nUmm, theres no actual article for ...</td>\n",
       "      <td>0</td>\n",
       "      <td>0</td>\n",
       "      <td>0</td>\n",
       "      <td>0</td>\n",
       "      <td>0</td>\n",
       "      <td>0</td>\n",
       "    </tr>\n",
       "    <tr>\n",
       "      <th>159569</th>\n",
       "      <td>fff125370e4aaaf3</td>\n",
       "      <td>And it looks like it was actually you who put ...</td>\n",
       "      <td>0</td>\n",
       "      <td>0</td>\n",
       "      <td>0</td>\n",
       "      <td>0</td>\n",
       "      <td>0</td>\n",
       "      <td>0</td>\n",
       "    </tr>\n",
       "    <tr>\n",
       "      <th>159570</th>\n",
       "      <td>fff46fc426af1f9a</td>\n",
       "      <td>\"\\nAnd ... I really don't think you understand...</td>\n",
       "      <td>0</td>\n",
       "      <td>0</td>\n",
       "      <td>0</td>\n",
       "      <td>0</td>\n",
       "      <td>0</td>\n",
       "      <td>0</td>\n",
       "    </tr>\n",
       "  </tbody>\n",
       "</table>\n",
       "<p>159571 rows × 8 columns</p>\n",
       "</div>"
      ],
      "text/plain": [
       "                      id                                       comment_text  \\\n",
       "0       0000997932d777bf  Explanation\\nWhy the edits made under my usern...   \n",
       "1       000103f0d9cfb60f  D'aww! He matches this background colour I'm s...   \n",
       "2       000113f07ec002fd  Hey man, I'm really not trying to edit war. It...   \n",
       "3       0001b41b1c6bb37e  \"\\nMore\\nI can't make any real suggestions on ...   \n",
       "4       0001d958c54c6e35  You, sir, are my hero. Any chance you remember...   \n",
       "...                  ...                                                ...   \n",
       "159566  ffe987279560d7ff  \":::::And for the second time of asking, when ...   \n",
       "159567  ffea4adeee384e90  You should be ashamed of yourself \\n\\nThat is ...   \n",
       "159568  ffee36eab5c267c9  Spitzer \\n\\nUmm, theres no actual article for ...   \n",
       "159569  fff125370e4aaaf3  And it looks like it was actually you who put ...   \n",
       "159570  fff46fc426af1f9a  \"\\nAnd ... I really don't think you understand...   \n",
       "\n",
       "        toxic  severe_toxic  obscene  threat  insult  identity_hate  \n",
       "0           0             0        0       0       0              0  \n",
       "1           0             0        0       0       0              0  \n",
       "2           0             0        0       0       0              0  \n",
       "3           0             0        0       0       0              0  \n",
       "4           0             0        0       0       0              0  \n",
       "...       ...           ...      ...     ...     ...            ...  \n",
       "159566      0             0        0       0       0              0  \n",
       "159567      0             0        0       0       0              0  \n",
       "159568      0             0        0       0       0              0  \n",
       "159569      0             0        0       0       0              0  \n",
       "159570      0             0        0       0       0              0  \n",
       "\n",
       "[159571 rows x 8 columns]"
      ]
     },
     "execution_count": 95,
     "metadata": {},
     "output_type": "execute_result"
    }
   ],
   "source": [
    "documents"
   ]
  },
  {
   "cell_type": "code",
   "execution_count": 7,
   "metadata": {},
   "outputs": [
    {
     "data": {
      "text/plain": [
       "memmap([-0.12371514,  0.04291734,  0.32880002, -0.16979389,  0.07798263,\n",
       "        -0.434905  , -0.20123899,  0.2908261 ,  0.08722368, -0.01311676,\n",
       "         0.03100661,  0.06784146, -0.10104007,  0.05850407,  0.16548222,\n",
       "         0.08658054, -0.60811365, -0.11604528, -0.27880418,  0.5378464 ,\n",
       "        -0.04813397,  0.1499427 ,  0.22319765, -0.00102038,  0.00765151,\n",
       "         0.16189177, -0.07079617,  0.25696877, -0.16503079, -0.3908718 ,\n",
       "         0.0489009 ,  0.43215597, -0.23331866,  0.17961967, -0.03609848,\n",
       "         0.06691864,  0.62597436, -0.24434146,  0.3396473 , -0.17995422,\n",
       "        -0.3429679 , -0.18863471,  0.3096196 , -0.03396757, -0.41085696,\n",
       "        -0.26007023,  0.02174138,  0.34613386, -0.37167326,  0.16421154,\n",
       "        -0.21386307, -0.2817541 , -0.18266954, -0.06549256,  0.11822449,\n",
       "        -0.23614788, -0.05696819, -0.06619099, -0.03271987, -0.17871535,\n",
       "         0.2755599 ,  0.05279215,  0.11753208, -0.03387453, -0.04365014,\n",
       "         0.17477167,  0.16678111, -0.1455879 ,  0.32459652,  0.31764194,\n",
       "         0.08047158,  0.05896698, -0.40228388,  0.01049532, -0.1600299 ,\n",
       "         0.39820948, -0.20182328,  0.01089796, -0.0500108 , -0.07087797,\n",
       "        -0.23047775,  0.02588834, -0.3382732 , -0.03140495,  0.16956787,\n",
       "        -0.08561493,  0.02449703,  0.17215526,  0.38913834, -0.24293669,\n",
       "         0.16386952, -0.3427041 ,  0.10871606, -0.22402209, -0.19669922,\n",
       "         0.09789241, -0.14946635, -0.3023672 , -0.24065368, -0.400976  ,\n",
       "        -0.35824978,  0.17351663,  0.04681728, -0.13650285,  0.2861327 ,\n",
       "         0.22252008,  0.11274172, -0.3603506 ,  0.03730905,  0.20593433,\n",
       "         0.1690158 ,  0.5572438 ,  0.163859  , -0.18379019,  0.29494533,\n",
       "        -0.16234979, -0.43159708,  0.31081724, -0.14143552, -0.10618748,\n",
       "         0.05055889, -0.17596804, -0.11700173,  0.02334513, -0.18077756,\n",
       "        -0.13377188,  0.04204942, -0.16465767, -0.2708082 , -0.09963073,\n",
       "         0.4221143 ,  0.09997322,  0.10851975, -0.39999315, -0.06225843,\n",
       "        -0.12406459,  0.046936  , -0.01280961,  0.33686632,  0.25245276,\n",
       "        -0.31307423, -0.34045112,  0.26843244, -0.21728824, -0.13022076,\n",
       "        -0.14050303,  0.38178945,  0.06531665, -0.15283488, -0.17336057,\n",
       "         0.3460328 ,  0.29156047,  0.29627043,  0.540401  ,  0.09232005,\n",
       "         0.07762714,  0.20953524, -0.35499296,  0.2015722 , -0.15118317,\n",
       "         0.22883569, -0.15593523,  0.08767207,  0.1211123 ,  0.16661495,\n",
       "        -0.23363617, -0.11680979,  0.2520028 , -0.07417459, -0.52118385,\n",
       "         0.03099977, -0.06770533,  0.07477118, -0.08005088, -0.19103034,\n",
       "         0.09306111,  0.605211  ,  0.08209456, -0.1365001 ,  0.16637036,\n",
       "         0.46296778,  0.03123554, -0.13824077,  0.12950452,  0.21800245,\n",
       "         0.04426396, -0.3286559 ,  0.22132236,  0.08043357, -0.09296091,\n",
       "         0.14784674,  0.03612109, -0.09745103, -0.11695834, -0.0166492 ,\n",
       "         0.42188266, -0.05415567,  0.34749368, -0.13711047,  0.10193099,\n",
       "         0.63332546, -0.12097458,  0.06393897,  0.03175595, -0.0608664 ,\n",
       "         0.24574566,  0.15622282,  0.21761815,  0.44393077, -0.36334434,\n",
       "         0.11723856,  0.01006255,  0.22327296, -0.09302057, -0.3069168 ,\n",
       "        -0.09129895,  0.23137324, -0.28790164,  0.24327338, -0.19500636,\n",
       "         0.21210411, -0.17259477, -0.35606888, -0.1700851 , -0.0463227 ,\n",
       "         0.13359495,  0.57478195,  0.43449497,  0.35687074,  0.1773067 ,\n",
       "        -0.18551922, -0.40689513, -0.04361665,  0.33260953,  0.26258495,\n",
       "        -0.5249649 , -0.14049768,  0.2714124 ,  0.00185168,  0.08025367,\n",
       "        -0.02923558,  0.08443073,  0.09610921, -0.02540211, -0.08776653,\n",
       "         0.14917544,  0.12370064, -0.04866884,  0.26615813,  0.26028538,\n",
       "        -0.13266015,  0.5894037 ,  0.37821692, -0.00583974,  0.19375423,\n",
       "         0.22552978,  0.02740124, -0.1846062 ,  0.05328019, -0.45600283,\n",
       "        -0.17741555, -0.07100835,  0.40821388, -0.06884032,  0.26162288,\n",
       "         0.32876942,  0.11765915, -0.01483264,  0.04148559,  0.11048083,\n",
       "         0.25147417, -0.06756043,  0.13433878,  0.08090083,  0.33355668,\n",
       "         0.160862  , -0.25555897,  0.11487202, -0.23404734, -0.02811114,\n",
       "        -0.00241474,  0.19820113,  0.09360848,  0.24722297, -0.17964903,\n",
       "         0.27791825, -0.04010469, -0.01760147, -0.10304537,  0.2995648 ,\n",
       "         0.14832784,  0.13403884,  0.225136  , -0.261585  ,  0.00730782,\n",
       "        -0.41827688, -0.51050264, -0.16432077,  0.07370622, -0.14903292],\n",
       "       dtype=float32)"
      ]
     },
     "execution_count": 7,
     "metadata": {},
     "output_type": "execute_result"
    }
   ],
   "source": [
    "model = Wikipedia2Vec.load('./enwiki_20180420_300d.pkl')\n",
    "model.get_word_vector('trash')"
   ]
  },
  {
   "cell_type": "code",
   "execution_count": 8,
   "metadata": {},
   "outputs": [
    {
     "data": {
      "text/plain": [
       "'COCKSUCKER BEFORE YOU PISS AROUND ON MY WORK'"
      ]
     },
     "execution_count": 8,
     "metadata": {},
     "output_type": "execute_result"
    }
   ],
   "source": [
    "documents.iloc[6,:].values[1]"
   ]
  },
  {
   "cell_type": "code",
   "execution_count": 9,
   "metadata": {},
   "outputs": [
    {
     "data": {
      "text/plain": [
       "memmap([-0.36777872,  0.4109074 , -0.28155106,  0.45166647,  0.11502699,\n",
       "        -0.25298506, -0.3498663 ,  0.2094816 , -0.22806048, -0.02379434,\n",
       "         0.17238143,  0.19643864, -0.02321672,  0.05538562, -0.108629  ,\n",
       "        -0.15897007, -0.62588555, -0.06143674, -0.15518166,  0.0358622 ,\n",
       "         0.02622124,  0.3707957 ,  0.50820106,  0.00946084,  0.16467492,\n",
       "         0.14478618, -0.12490515, -0.14495854, -0.05301759,  0.03866079,\n",
       "        -0.06182896,  0.10599335, -0.02897676, -0.51409554, -0.0017056 ,\n",
       "         0.11983052,  0.38848922, -0.14517549,  0.65245366, -0.30381703,\n",
       "        -0.11981307,  0.06781227,  0.12014686, -0.3571657 , -0.52973044,\n",
       "        -0.28241977,  0.15605558,  0.24977963, -0.61448294, -0.07867463,\n",
       "        -0.06368928, -0.11056993, -0.45702854,  0.77721673,  0.26282415,\n",
       "         0.01614565, -0.01972437, -0.08186976, -0.0130535 , -0.2424196 ,\n",
       "         0.01599565, -0.04030436, -0.02045289,  0.2263624 ,  0.19410142,\n",
       "        -0.10982206,  0.2397274 , -0.2708976 ,  0.08596189, -0.09774651,\n",
       "        -0.29859757, -0.19825144, -0.42132467,  0.04756479, -0.10154491,\n",
       "         0.04960937, -0.3605147 , -0.3888286 , -0.11554158, -0.01019814,\n",
       "        -0.371451  , -0.02402696, -0.52374756,  0.20942734, -0.1750624 ,\n",
       "        -0.4129153 ,  0.16445187,  0.06330301,  0.19615838, -0.1877282 ,\n",
       "        -0.00418864, -0.456021  , -0.3590464 ,  0.01454636, -0.19495094,\n",
       "         0.19399768, -0.04056729, -0.13050887,  0.1407398 , -0.04280329,\n",
       "        -0.56804484, -0.10863775, -0.06439656,  0.00625139,  0.52099884,\n",
       "         0.12390068,  0.30704907, -0.16895747, -0.08501221,  0.09020399,\n",
       "        -0.03526841,  0.5299464 , -0.02230806,  0.1899037 ,  0.3062332 ,\n",
       "        -0.24392802, -0.12228997,  0.2772574 ,  0.1980627 ,  0.19004422,\n",
       "         0.0722883 ,  0.2765077 , -0.1622355 ,  0.1789461 , -0.50251925,\n",
       "         0.07651297, -0.05871442, -0.13158648, -0.3892007 ,  0.1909994 ,\n",
       "         0.29632428, -0.03565262,  0.08813836, -0.40198064,  0.42456087,\n",
       "         0.17550449,  0.3350504 ,  0.42852184,  0.339602  ,  0.08310371,\n",
       "        -0.07974911,  0.02864315,  0.26224965,  0.23566313, -0.25821513,\n",
       "         0.08161714,  0.42772773, -0.05062628, -0.20707361, -0.27451456,\n",
       "        -0.7364614 ,  0.38664502,  0.3701592 ,  0.558617  , -0.05152546,\n",
       "        -0.11477901,  0.31518638, -0.61786985, -0.03417164,  0.19134405,\n",
       "         0.218789  , -0.2767922 , -0.07903454, -0.27564004,  0.43196774,\n",
       "        -0.39244017,  0.17369299,  0.09167805, -0.19215423, -0.2016438 ,\n",
       "         0.13320029, -0.11322375, -0.28800243,  0.05942419, -0.2782101 ,\n",
       "         0.3853755 ,  0.2310096 ,  0.7288032 , -0.07299132,  0.00428704,\n",
       "         0.57142454,  0.02732335,  0.10993905,  0.03437294, -0.12347685,\n",
       "         0.29484987,  0.39477825,  0.30438238,  0.0519467 , -0.36449346,\n",
       "         0.7833217 ,  0.16695458, -0.17987412,  0.4020115 , -0.24634793,\n",
       "         0.17101271, -0.24876988, -0.03475016, -0.41238245, -0.04077509,\n",
       "         0.12402389,  0.0265515 , -0.38145792, -0.33100158, -0.33801892,\n",
       "        -0.01090167, -0.1204516 , -0.21156317, -0.05135083, -0.51370156,\n",
       "         0.63632536,  0.02235669,  0.10078652,  0.17335661, -0.3314455 ,\n",
       "         0.30271313,  0.05518132, -0.35655478,  0.10732096,  0.12134769,\n",
       "        -0.2873646 , -0.328567  , -0.15436581,  0.7034597 , -0.09986933,\n",
       "         0.25759172,  0.18775545, -0.05632452,  0.5858389 , -0.25366336,\n",
       "        -0.02270767, -0.38113117, -0.07201374, -0.04030401,  0.1986776 ,\n",
       "         0.01599757,  0.12704611,  0.3490356 , -0.24151012, -0.02212646,\n",
       "        -0.0749943 , -0.17607442, -0.0852766 ,  0.05062818,  0.09463347,\n",
       "         0.1245819 , -0.20231798, -0.04508478,  0.03618906, -0.17199846,\n",
       "        -0.45068637,  0.41175517,  0.17629066,  0.05105869, -0.5056873 ,\n",
       "         0.38021415, -0.09164564, -0.257227  , -0.27583   ,  0.24718893,\n",
       "         0.18503301, -0.06689715,  0.23866643,  0.05163468,  0.93789196,\n",
       "         0.5762904 , -0.1015475 , -0.16169167, -0.18684581,  0.1474572 ,\n",
       "         0.1622495 , -0.2782801 , -0.2908963 ,  0.48016855,  0.3252405 ,\n",
       "         0.20092896, -0.25455588,  0.1970189 ,  0.10008276,  0.06150849,\n",
       "        -0.02134245, -0.03840758,  0.08588943,  0.2157186 , -0.26938078,\n",
       "        -0.14157423,  0.0956833 , -0.22153808, -0.44750354,  0.3341552 ,\n",
       "         0.15381049,  0.01022725,  0.26756188,  0.04074401, -0.1332387 ,\n",
       "        -0.01901851,  0.05835482, -0.30601564, -0.2700692 ,  0.0684663 ],\n",
       "       dtype=float32)"
      ]
     },
     "execution_count": 9,
     "metadata": {},
     "output_type": "execute_result"
    }
   ],
   "source": [
    "line = word_tokenize(documents.iloc[6,:].values[1])\n",
    "line = list(map(str.lower, line))\n",
    "model.get_word_vector(line[0])"
   ]
  },
  {
   "cell_type": "code",
   "execution_count": 10,
   "metadata": {},
   "outputs": [],
   "source": [
    "doc = np.array(list(map(model.get_word_vector, line)))"
   ]
  },
  {
   "cell_type": "code",
   "execution_count": 11,
   "metadata": {},
   "outputs": [
    {
     "data": {
      "text/plain": [
       "(8, 300)"
      ]
     },
     "execution_count": 11,
     "metadata": {},
     "output_type": "execute_result"
    }
   ],
   "source": [
    "doc.shape"
   ]
  },
  {
   "cell_type": "code",
   "execution_count": 12,
   "metadata": {},
   "outputs": [
    {
     "name": "stdout",
     "output_type": "stream",
     "text": [
      "159570\r"
     ]
    }
   ],
   "source": [
    "docs_encoded = []\n",
    "wordss = []\n",
    "for i,doc in documents.iterrows():\n",
    "    wordss.append(word_tokenize(doc['comment_text']))\n",
    "    print('{:>5}\\r'.format(i),end='')"
   ]
  },
  {
   "cell_type": "code",
   "execution_count": 18,
   "metadata": {},
   "outputs": [],
   "source": [
    "samples = []\n",
    "removed = []\n",
    "for word in wordss:\n",
    "    emb = []\n",
    "    for token in word:\n",
    "        try:\n",
    "            emb.append(model.get_word_vector(str.lower(token)))\n",
    "        except:\n",
    "            removed.append(str.lower(token))\n",
    "    samples.append(np.array(emb))"
   ]
  },
  {
   "cell_type": "code",
   "execution_count": 19,
   "metadata": {},
   "outputs": [
    {
     "data": {
      "text/plain": [
       "(42, 300)"
      ]
     },
     "execution_count": 19,
     "metadata": {},
     "output_type": "execute_result"
    }
   ],
   "source": [
    "samples[0].shape"
   ]
  },
  {
   "cell_type": "code",
   "execution_count": 68,
   "metadata": {},
   "outputs": [],
   "source": [
    "class Layer(torch.nn.Module):\n",
    "    def __init__(self, size_in, size_out, activation):\n",
    "        super(Layer, self).__init__()\n",
    "        self.weights = torch.nn.Parameter(\n",
    "            torch.randn(size_in, size_out, requires_grad=True)\n",
    "        )\n",
    "        self.bias = torch.nn.Parameter(\n",
    "            torch.randn(1, size_out, requires_grad=True)\n",
    "        )  \n",
    "        self.activation = activation\n",
    "        \n",
    "    def forward(self, z_in):\n",
    "        return self.activation(z_in @ self.weights + self.bias)"
   ]
  },
  {
   "cell_type": "code",
   "execution_count": 81,
   "metadata": {},
   "outputs": [],
   "source": [
    "class LSTM(torch.nn.Module):\n",
    "    def __init__(self, size_in, size_out, size_long, size_short):\n",
    "        super().__init__()\n",
    "        size_cat = size_in + size_short\n",
    "        self.forget_gate = Layer(size_cat, size_long, torch.sigmoid)\n",
    "        self.memory_gate = Layer(size_cat, size_long, torch.sigmoid)\n",
    "        self.memory_tanh = Layer(size_cat, size_long, torch.tanh)\n",
    "        self.recall_gate = Layer(size_cat, size_short, torch.sigmoid)\n",
    "        self.recall_tanh = Layer(size_long, size_short, torch.tanh)\n",
    "        self.output = Layer(size_short, size_out, lambda z: z)\n",
    "        self.size_short = size_short\n",
    "        self.size_long = size_long\n",
    "        \n",
    "    def forward(self, x):\n",
    "        memory_long  = torch.zeros((1, self.size_long))\n",
    "        memory_short = torch.zeros((1, self.size_short))\n",
    "        out = []\n",
    "        \n",
    "        for t in range(x.shape[0]):\n",
    "            x_t = x[[t], :]\n",
    "            z_t = torch.cat([x_t, memory_short], axis=1)\n",
    "            \n",
    "            forget_gate = self.forget_gate(z_t)\n",
    "            \n",
    "            memory_long = memory_long * forget_gate\n",
    "            \n",
    "            memory_gate = self.memory_gate(z_t)\n",
    "            memory_tanh = self.memory_tanh(z_t)\n",
    "            memory = memory_gate * memory_tanh\n",
    "            \n",
    "            memory_long = memory_long + memory\n",
    "            \n",
    "            recall_gate = self.recall_gate(z_t)\n",
    "            recall_tanh = self.recall_tanh(memory_long)\n",
    "            \n",
    "            memory_short = recall_gate * recall_tanh\n",
    "            \n",
    "        y_hat = self.output(memory_short)\n",
    "        out.append(y_hat)\n",
    "            \n",
    "        return torch.cat(out, axis=0)\n",
    "    \n",
    "    def Predict(self, x, t=0.5):\n",
    "        return torch.sigmoid(self.forward(x)) > t"
   ]
  },
  {
   "cell_type": "code",
   "execution_count": 90,
   "metadata": {},
   "outputs": [],
   "source": [
    "n_samp = np.array(samples)"
   ]
  },
  {
   "cell_type": "code",
   "execution_count": 116,
   "metadata": {},
   "outputs": [
    {
     "data": {
      "text/plain": [
       "torch.Size([6])"
      ]
     },
     "execution_count": 116,
     "metadata": {},
     "output_type": "execute_result"
    }
   ],
   "source": [
    "lstm = LSTM(300, 6, 20,20)\n",
    "y = torch.Tensor(documents[['toxic', 'severe_toxic', 'obscene', 'threat', 'insult', 'identity_hate']].values)\n",
    "loss_func = torch.nn.BCEWithLogitsLoss()\n",
    "optim = torch.optim.Adam(lstm.parameters(), lr=0, )\n",
    "y[0,:].shape"
   ]
  },
  {
   "cell_type": "code",
   "execution_count": 117,
   "metadata": {},
   "outputs": [
    {
     "name": "stdout",
     "output_type": "stream",
     "text": [
      "   44 |          nan\r"
     ]
    },
    {
     "ename": "KeyboardInterrupt",
     "evalue": "",
     "output_type": "error",
     "traceback": [
      "\u001b[1;31m---------------------------------------------------------------------------\u001b[0m",
      "\u001b[1;31mKeyboardInterrupt\u001b[0m                         Traceback (most recent call last)",
      "\u001b[1;32m<ipython-input-117-68f8cfe4009f>\u001b[0m in \u001b[0;36m<module>\u001b[1;34m\u001b[0m\n\u001b[0;32m     11\u001b[0m         \u001b[0my_hat\u001b[0m \u001b[1;33m=\u001b[0m \u001b[0mlstm\u001b[0m\u001b[1;33m(\u001b[0m\u001b[0mtorch\u001b[0m\u001b[1;33m.\u001b[0m\u001b[0mTensor\u001b[0m\u001b[1;33m(\u001b[0m\u001b[0mcomment\u001b[0m\u001b[1;33m)\u001b[0m\u001b[1;33m)\u001b[0m\u001b[1;33m\u001b[0m\u001b[1;33m\u001b[0m\u001b[0m\n\u001b[0;32m     12\u001b[0m         \u001b[0mloss\u001b[0m \u001b[1;33m=\u001b[0m \u001b[0mloss_func\u001b[0m\u001b[1;33m(\u001b[0m\u001b[0my_hat\u001b[0m\u001b[1;33m[\u001b[0m\u001b[1;36m0\u001b[0m\u001b[1;33m,\u001b[0m\u001b[1;33m:\u001b[0m\u001b[1;33m]\u001b[0m\u001b[1;33m,\u001b[0m \u001b[0mtarget\u001b[0m\u001b[1;33m)\u001b[0m\u001b[1;33m\u001b[0m\u001b[1;33m\u001b[0m\u001b[0m\n\u001b[1;32m---> 13\u001b[1;33m         \u001b[0mloss\u001b[0m\u001b[1;33m.\u001b[0m\u001b[0mbackward\u001b[0m\u001b[1;33m(\u001b[0m\u001b[1;33m)\u001b[0m\u001b[1;33m\u001b[0m\u001b[1;33m\u001b[0m\u001b[0m\n\u001b[0m\u001b[0;32m     14\u001b[0m         \u001b[0mlosses\u001b[0m\u001b[1;33m.\u001b[0m\u001b[0mappend\u001b[0m\u001b[1;33m(\u001b[0m\u001b[0mloss\u001b[0m\u001b[1;33m.\u001b[0m\u001b[0mdetach\u001b[0m\u001b[1;33m(\u001b[0m\u001b[1;33m)\u001b[0m\u001b[1;33m)\u001b[0m\u001b[1;33m\u001b[0m\u001b[1;33m\u001b[0m\u001b[0m\n\u001b[0;32m     15\u001b[0m     \u001b[0moptim\u001b[0m\u001b[1;33m.\u001b[0m\u001b[0mstep\u001b[0m\u001b[1;33m(\u001b[0m\u001b[1;33m)\u001b[0m\u001b[1;33m\u001b[0m\u001b[1;33m\u001b[0m\u001b[0m\n",
      "\u001b[1;32mC:\\Program Files (x86)\\Microsoft Visual Studio\\Shared\\Python37_64\\lib\\site-packages\\torch\\tensor.py\u001b[0m in \u001b[0;36mbackward\u001b[1;34m(self, gradient, retain_graph, create_graph)\u001b[0m\n\u001b[0;32m    193\u001b[0m                 \u001b[0mproducts\u001b[0m\u001b[1;33m.\u001b[0m \u001b[0mDefaults\u001b[0m \u001b[0mto\u001b[0m\u001b[0;31m \u001b[0m\u001b[0;31m`\u001b[0m\u001b[0;31m`\u001b[0m\u001b[1;32mFalse\u001b[0m\u001b[0;31m`\u001b[0m\u001b[0;31m`\u001b[0m\u001b[1;33m.\u001b[0m\u001b[1;33m\u001b[0m\u001b[1;33m\u001b[0m\u001b[0m\n\u001b[0;32m    194\u001b[0m         \"\"\"\n\u001b[1;32m--> 195\u001b[1;33m         \u001b[0mtorch\u001b[0m\u001b[1;33m.\u001b[0m\u001b[0mautograd\u001b[0m\u001b[1;33m.\u001b[0m\u001b[0mbackward\u001b[0m\u001b[1;33m(\u001b[0m\u001b[0mself\u001b[0m\u001b[1;33m,\u001b[0m \u001b[0mgradient\u001b[0m\u001b[1;33m,\u001b[0m \u001b[0mretain_graph\u001b[0m\u001b[1;33m,\u001b[0m \u001b[0mcreate_graph\u001b[0m\u001b[1;33m)\u001b[0m\u001b[1;33m\u001b[0m\u001b[1;33m\u001b[0m\u001b[0m\n\u001b[0m\u001b[0;32m    196\u001b[0m \u001b[1;33m\u001b[0m\u001b[0m\n\u001b[0;32m    197\u001b[0m     \u001b[1;32mdef\u001b[0m \u001b[0mregister_hook\u001b[0m\u001b[1;33m(\u001b[0m\u001b[0mself\u001b[0m\u001b[1;33m,\u001b[0m \u001b[0mhook\u001b[0m\u001b[1;33m)\u001b[0m\u001b[1;33m:\u001b[0m\u001b[1;33m\u001b[0m\u001b[1;33m\u001b[0m\u001b[0m\n",
      "\u001b[1;32mC:\\Program Files (x86)\\Microsoft Visual Studio\\Shared\\Python37_64\\lib\\site-packages\\torch\\autograd\\__init__.py\u001b[0m in \u001b[0;36mbackward\u001b[1;34m(tensors, grad_tensors, retain_graph, create_graph, grad_variables)\u001b[0m\n\u001b[0;32m     97\u001b[0m     Variable._execution_engine.run_backward(\n\u001b[0;32m     98\u001b[0m         \u001b[0mtensors\u001b[0m\u001b[1;33m,\u001b[0m \u001b[0mgrad_tensors\u001b[0m\u001b[1;33m,\u001b[0m \u001b[0mretain_graph\u001b[0m\u001b[1;33m,\u001b[0m \u001b[0mcreate_graph\u001b[0m\u001b[1;33m,\u001b[0m\u001b[1;33m\u001b[0m\u001b[1;33m\u001b[0m\u001b[0m\n\u001b[1;32m---> 99\u001b[1;33m         allow_unreachable=True)  # allow_unreachable flag\n\u001b[0m\u001b[0;32m    100\u001b[0m \u001b[1;33m\u001b[0m\u001b[0m\n\u001b[0;32m    101\u001b[0m \u001b[1;33m\u001b[0m\u001b[0m\n",
      "\u001b[1;31mKeyboardInterrupt\u001b[0m: "
     ]
    }
   ],
   "source": [
    "iterations=2000\n",
    "losses = [np.inf]\n",
    "batch_size = 1\n",
    "for i in range(iterations):\n",
    "    print('{:>5} | {:>12.3}\\r'.format(i, losses[-1]), end='')\n",
    "    idx = np.random.permutation(len(samples))\n",
    "    comments = n_samp[idx[:batch_size]]\n",
    "    targets = y[idx[:batch_size], :]\n",
    "    loss = 0\n",
    "    for comment, target in zip(comments, targets):\n",
    "        y_hat = lstm(torch.Tensor(comment))\n",
    "        loss = loss_func(y_hat[0,:], target)\n",
    "        loss.backward()\n",
    "        losses.append(loss.detach())\n",
    "    optim.step()\n",
    "    optim.zero_grad()"
   ]
  },
  {
   "cell_type": "code",
   "execution_count": 118,
   "metadata": {},
   "outputs": [
    {
     "data": {
      "text/plain": [
       "[<matplotlib.lines.Line2D at 0x2008c26f388>]"
      ]
     },
     "execution_count": 118,
     "metadata": {},
     "output_type": "execute_result"
    },
    {
     "data": {
      "image/png": "[encoded data removed]",
      "text/plain": [
       "<Figure size 432x288 with 1 Axes>"
      ]
     },
     "metadata": {
      "needs_background": "light"
     },
     "output_type": "display_data"
    }
   ],
   "source": [
    "plt.plot(losses)"
   ]
  },
  {
   "cell_type": "code",
   "execution_count": null,
   "metadata": {},
   "outputs": [],
   "source": [
    "comments = documents['comment_text'].sample(batch_size).values"
   ]
  },
  {
   "cell_type": "code",
   "execution_count": 110,
   "metadata": {},
   "outputs": [
    {
     "data": {
      "text/plain": [
       "0"
      ]
     },
     "execution_count": 110,
     "metadata": {},
     "output_type": "execute_result"
    }
   ],
   "source": [
    "pd.DataFrame(samples[0]).isnull().sum().sum()"
   ]
  },
  {
   "cell_type": "code",
   "execution_count": 112,
   "metadata": {},
   "outputs": [
    {
     "data": {
      "text/plain": [
       "False"
      ]
     },
     "execution_count": 112,
     "metadata": {},
     "output_type": "execute_result"
    }
   ],
   "source": [
    "check = False\n",
    "for s in samples:\n",
    "    if pd.DataFrame(s).isnull().sum().sum() > 0:\n",
    "        check = True\n",
    "        break\n",
    "check"
   ]
  },
  {
   "cell_type": "code",
   "execution_count": 130,
   "metadata": {},
   "outputs": [
    {
     "data": {
      "text/plain": [
       "(42, 300)"
      ]
     },
     "execution_count": 130,
     "metadata": {},
     "output_type": "execute_result"
    }
   ],
   "source": [
    "x = []\n",
    "for tok in list(map(str.lower, word_tokenize(documents.iloc[0,1]))):\n",
    "    try:\n",
    "        x.append(model.get_word_vector(tok))\n",
    "    except:\n",
    "        pass\n",
    "x = np.array(x)\n",
    "x.shape"
   ]
  },
  {
   "cell_type": "code",
   "execution_count": 131,
   "metadata": {},
   "outputs": [],
   "source": [
    "def get_x(comment):\n",
    "    x = []\n",
    "    for tok in list(map(str.lower, word_tokenize(comment))):\n",
    "        try:\n",
    "            x.append(model.get_word_vector(tok))\n",
    "        except:\n",
    "            pass\n",
    "    return torch.Tensor(x)"
   ]
  },
  {
   "cell_type": "code",
   "execution_count": 132,
   "metadata": {},
   "outputs": [
    {
     "data": {
      "text/plain": [
       "tensor([[-0.2120,  0.1692, -0.0911,  ...,  0.2050,  0.0318,  0.0045],\n",
       "        [-0.0511,  0.6501, -0.2835,  ...,  0.1183, -0.0325,  0.1904],\n",
       "        [-0.2430, -0.0432, -0.0333,  ..., -0.0283, -0.0504, -0.3401],\n",
       "        ...,\n",
       "        [-0.3116, -0.1016, -0.0405,  ...,  0.0661, -0.0909, -0.2687],\n",
       "        [-0.0506,  0.7150, -0.0307,  ..., -0.0774, -0.3192, -0.0046],\n",
       "        [-0.2817,  0.0181, -0.0265,  ..., -0.2772, -0.0566,  0.3437]])"
      ]
     },
     "execution_count": 132,
     "metadata": {},
     "output_type": "execute_result"
    }
   ],
   "source": [
    "get_x(documents.iloc[0,1])"
   ]
  },
  {
   "cell_type": "code",
   "execution_count": null,
   "metadata": {},
   "outputs": [],
   "source": []
  }
 ],
 "metadata": {
  "kernelspec": {
   "display_name": "Python 3.7.4 64-bit",
   "language": "python",
   "name": "python37464bit57083657bac942f288e3c37da326c439"
  },
  "language_info": {
   "codemirror_mode": {
    "name": "ipython",
    "version": 3
   },
   "file_extension": ".py",
   "mimetype": "text/x-python",
   "name": "python",
   "nbconvert_exporter": "python",
   "pygments_lexer": "ipython3",
   "version": "3.7.6"
  }
 },
 "nbformat": 4,
 "nbformat_minor": 4
}
